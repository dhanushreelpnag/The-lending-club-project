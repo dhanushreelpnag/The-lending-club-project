{
 "cells": [
  {
   "cell_type": "code",
   "execution_count": 93,
   "id": "e4198d4c",
   "metadata": {},
   "outputs": [],
   "source": [
    "from pyspark.sql import SparkSession\n",
    "import getpass \n",
    "username=getpass.getuser()\n",
    "spark=SparkSession. \\\n",
    "    builder. \\\n",
    "    config('spark.ui.port','0'). \\\n",
    "    config(\"spark.sql.warehouse.dir\", f\"/user/{username}/warehouse\"). \\\n",
    "    config('spark.shuffle.useOldFetchProtocol', 'true'). \\\n",
    "    enableHiveSupport(). \\\n",
    "    master('yarn'). \\\n",
    "    getOrCreate()"
   ]
  },
  {
   "cell_type": "markdown",
   "id": "b0ca2154",
   "metadata": {},
   "source": [
    "### Cleaning of customers data"
   ]
  },
  {
   "cell_type": "markdown",
   "id": "721a77bb",
   "metadata": {},
   "source": [
    "#### 1 create dataframe with proper datatypes"
   ]
  },
  {
   "cell_type": "code",
   "execution_count": 94,
   "id": "abc664ad",
   "metadata": {},
   "outputs": [],
   "source": [
    "customer_schema = 'member_id string,emp_title  string,emp_length string,home_ownership string,annual_inc float,addr_state string,zip_code string,country string,grade string,sub_grade string,verification_status string,tot_hi_cred_lim float,application_type string,annual_inc_joint float,verification_status_joint string' "
   ]
  },
  {
   "cell_type": "code",
   "execution_count": 95,
   "id": "b46831f7",
   "metadata": {},
   "outputs": [],
   "source": [
    "customer_raw_df = spark.read \\\n",
    ".format('csv') \\\n",
    ".schema(customer_schema) \\\n",
    ".option('header',True) \\\n",
    ".load('/user/itv014325/lendingclubproject/raw/customers_data_csv')"
   ]
  },
  {
   "cell_type": "code",
   "execution_count": 96,
   "id": "ddbe62d3",
   "metadata": {},
   "outputs": [
    {
     "data": {
      "text/html": [
       "<table border='1'>\n",
       "<tr><th>member_id</th><th>emp_title</th><th>emp_length</th><th>home_ownership</th><th>annual_inc</th><th>addr_state</th><th>zip_code</th><th>country</th><th>grade</th><th>sub_grade</th><th>verification_status</th><th>tot_hi_cred_lim</th><th>application_type</th><th>annual_inc_joint</th><th>verification_status_joint</th></tr>\n",
       "<tr><td>bfcec8da7b3f1fe83...</td><td>Regional Manager</td><td>8 years</td><td>RENT</td><td>130000.0</td><td>CT</td><td>069xx</td><td>USA</td><td>C</td><td>C3</td><td>Verified</td><td>135904.0</td><td>Individual</td><td>null</td><td>null</td></tr>\n",
       "<tr><td>36399458db4295868...</td><td>null</td><td>null</td><td>RENT</td><td>12000.0</td><td>CA</td><td>953xx</td><td>USA</td><td>C</td><td>C1</td><td>Verified</td><td>7700.0</td><td>Joint App</td><td>62000.0</td><td>Verified</td></tr>\n",
       "<tr><td>e4912b650878ca941...</td><td>Manager</td><td>6 years</td><td>MORTGAGE</td><td>103000.0</td><td>CA</td><td>922xx</td><td>USA</td><td>A</td><td>A2</td><td>Not Verified</td><td>511251.0</td><td>Individual</td><td>null</td><td>null</td></tr>\n",
       "<tr><td>3d6f35ad2e2be4572...</td><td>Clinical Coordinator</td><td>6 years</td><td>MORTGAGE</td><td>64300.0</td><td>NM</td><td>871xx</td><td>USA</td><td>D</td><td>D1</td><td>Source Verified</td><td>233646.0</td><td>Individual</td><td>null</td><td>null</td></tr>\n",
       "<tr><td>478e1cd37e35c20f7...</td><td>Warehouse supervisor</td><td>3 years</td><td>RENT</td><td>32000.0</td><td>NJ</td><td>073xx</td><td>USA</td><td>C</td><td>C4</td><td>Not Verified</td><td>44200.0</td><td>Individual</td><td>null</td><td>null</td></tr>\n",
       "<tr><td>a5d42e35cc0be2789...</td><td>Sales Manager</td><td>5 years</td><td>MORTGAGE</td><td>140000.0</td><td>CA</td><td>917xx</td><td>USA</td><td>C</td><td>C5</td><td>Source Verified</td><td>455867.0</td><td>Individual</td><td>null</td><td>null</td></tr>\n",
       "<tr><td>7f3ef55c784bf6b16...</td><td>Owner</td><td>10+ years</td><td>MORTGAGE</td><td>98000.0</td><td>NV</td><td>891xx</td><td>USA</td><td>A</td><td>A3</td><td>Source Verified</td><td>265000.0</td><td>Individual</td><td>null</td><td>null</td></tr>\n",
       "<tr><td>beb30abaeca08f49b...</td><td>Alternate Media S...</td><td>2 years</td><td>RENT</td><td>56000.0</td><td>CA</td><td>940xx</td><td>USA</td><td>D</td><td>D1</td><td>Source Verified</td><td>75023.0</td><td>Individual</td><td>null</td><td>null</td></tr>\n",
       "<tr><td>233e5e6797dd0a68b...</td><td>Hammerman</td><td>7 years</td><td>MORTGAGE</td><td>70000.0</td><td>OH</td><td>440xx</td><td>USA</td><td>C</td><td>C4</td><td>Source Verified</td><td>233341.0</td><td>Individual</td><td>null</td><td>null</td></tr>\n",
       "<tr><td>c4b178ffaf80ed472...</td><td>Civil Engineer</td><td>&lt; 1 year</td><td>RENT</td><td>120000.0</td><td>FL</td><td>321xx</td><td>USA</td><td>B</td><td>B3</td><td>Source Verified</td><td>97065.0</td><td>Individual</td><td>null</td><td>null</td></tr>\n",
       "<tr><td>7f45445bc792b29c7...</td><td>Lieutenant/Paramedic</td><td>10+ years</td><td>MORTGAGE</td><td>62258.0</td><td>MI</td><td>488xx</td><td>USA</td><td>C</td><td>C4</td><td>Verified</td><td>210409.0</td><td>Individual</td><td>null</td><td>null</td></tr>\n",
       "<tr><td>582a9b2d3a658ab05...</td><td>Shift supervisor</td><td>10+ years</td><td>OWN</td><td>45000.0</td><td>MI</td><td>480xx</td><td>USA</td><td>A</td><td>A2</td><td>Source Verified</td><td>119080.0</td><td>Individual</td><td>null</td><td>null</td></tr>\n",
       "<tr><td>f67ba01e72eb5f109...</td><td>customer service rep</td><td>4 years</td><td>MORTGAGE</td><td>42000.0</td><td>OK</td><td>741xx</td><td>USA</td><td>D</td><td>D5</td><td>Not Verified</td><td>200965.0</td><td>Individual</td><td>null</td><td>null</td></tr>\n",
       "<tr><td>07e81491adcc0e7c3...</td><td>owner</td><td>2 years</td><td>RENT</td><td>67350.0</td><td>SC</td><td>297xx</td><td>USA</td><td>E</td><td>E3</td><td>Source Verified</td><td>74617.0</td><td>Individual</td><td>null</td><td>null</td></tr>\n",
       "<tr><td>6f5c275cbae528914...</td><td>null</td><td>null</td><td>MORTGAGE</td><td>95000.0</td><td>CA</td><td>954xx</td><td>USA</td><td>A</td><td>A2</td><td>Not Verified</td><td>504496.0</td><td>Individual</td><td>null</td><td>null</td></tr>\n",
       "<tr><td>412a63a98577abf03...</td><td>Manager</td><td>10+ years</td><td>MORTGAGE</td><td>234000.0</td><td>NJ</td><td>088xx</td><td>USA</td><td>B</td><td>B1</td><td>Verified</td><td>831222.0</td><td>Individual</td><td>null</td><td>null</td></tr>\n",
       "<tr><td>47196375e82e575cb...</td><td>Machine Tester</td><td>10+ years</td><td>RENT</td><td>42720.0</td><td>CT</td><td>061xx</td><td>USA</td><td>B</td><td>B5</td><td>Not Verified</td><td>73949.0</td><td>Individual</td><td>null</td><td>null</td></tr>\n",
       "<tr><td>6f45755c48f1b4e98...</td><td>Assistant Project...</td><td>2 years</td><td>MORTGAGE</td><td>42000.0</td><td>NY</td><td>117xx</td><td>USA</td><td>D</td><td>D3</td><td>Source Verified</td><td>13500.0</td><td>Individual</td><td>null</td><td>null</td></tr>\n",
       "<tr><td>229e078da68df21b4...</td><td>Senior Account Ex...</td><td>&lt; 1 year</td><td>MORTGAGE</td><td>230000.0</td><td>NH</td><td>031xx</td><td>USA</td><td>B</td><td>B2</td><td>Source Verified</td><td>489300.0</td><td>Joint App</td><td>297000.0</td><td>Source Verified</td></tr>\n",
       "<tr><td>94e84e829870062c2...</td><td>Engineering Maint...</td><td>&lt; 1 year</td><td>MORTGAGE</td><td>75000.0</td><td>TN</td><td>371xx</td><td>USA</td><td>C</td><td>C5</td><td>Not Verified</td><td>228778.0</td><td>Individual</td><td>null</td><td>null</td></tr>\n",
       "</table>\n",
       "only showing top 20 rows\n"
      ],
      "text/plain": [
       "+--------------------+--------------------+----------+--------------+----------+----------+--------+-------+-----+---------+-------------------+---------------+----------------+----------------+-------------------------+\n",
       "|           member_id|           emp_title|emp_length|home_ownership|annual_inc|addr_state|zip_code|country|grade|sub_grade|verification_status|tot_hi_cred_lim|application_type|annual_inc_joint|verification_status_joint|\n",
       "+--------------------+--------------------+----------+--------------+----------+----------+--------+-------+-----+---------+-------------------+---------------+----------------+----------------+-------------------------+\n",
       "|bfcec8da7b3f1fe83...|    Regional Manager|   8 years|          RENT|  130000.0|        CT|   069xx|    USA|    C|       C3|           Verified|       135904.0|      Individual|            null|                     null|\n",
       "|36399458db4295868...|                null|      null|          RENT|   12000.0|        CA|   953xx|    USA|    C|       C1|           Verified|         7700.0|       Joint App|         62000.0|                 Verified|\n",
       "|e4912b650878ca941...|             Manager|   6 years|      MORTGAGE|  103000.0|        CA|   922xx|    USA|    A|       A2|       Not Verified|       511251.0|      Individual|            null|                     null|\n",
       "|3d6f35ad2e2be4572...|Clinical Coordinator|   6 years|      MORTGAGE|   64300.0|        NM|   871xx|    USA|    D|       D1|    Source Verified|       233646.0|      Individual|            null|                     null|\n",
       "|478e1cd37e35c20f7...|Warehouse supervisor|   3 years|          RENT|   32000.0|        NJ|   073xx|    USA|    C|       C4|       Not Verified|        44200.0|      Individual|            null|                     null|\n",
       "|a5d42e35cc0be2789...|       Sales Manager|   5 years|      MORTGAGE|  140000.0|        CA|   917xx|    USA|    C|       C5|    Source Verified|       455867.0|      Individual|            null|                     null|\n",
       "|7f3ef55c784bf6b16...|               Owner| 10+ years|      MORTGAGE|   98000.0|        NV|   891xx|    USA|    A|       A3|    Source Verified|       265000.0|      Individual|            null|                     null|\n",
       "|beb30abaeca08f49b...|Alternate Media S...|   2 years|          RENT|   56000.0|        CA|   940xx|    USA|    D|       D1|    Source Verified|        75023.0|      Individual|            null|                     null|\n",
       "|233e5e6797dd0a68b...|           Hammerman|   7 years|      MORTGAGE|   70000.0|        OH|   440xx|    USA|    C|       C4|    Source Verified|       233341.0|      Individual|            null|                     null|\n",
       "|c4b178ffaf80ed472...|      Civil Engineer|  < 1 year|          RENT|  120000.0|        FL|   321xx|    USA|    B|       B3|    Source Verified|        97065.0|      Individual|            null|                     null|\n",
       "|7f45445bc792b29c7...|Lieutenant/Paramedic| 10+ years|      MORTGAGE|   62258.0|        MI|   488xx|    USA|    C|       C4|           Verified|       210409.0|      Individual|            null|                     null|\n",
       "|582a9b2d3a658ab05...|    Shift supervisor| 10+ years|           OWN|   45000.0|        MI|   480xx|    USA|    A|       A2|    Source Verified|       119080.0|      Individual|            null|                     null|\n",
       "|f67ba01e72eb5f109...|customer service rep|   4 years|      MORTGAGE|   42000.0|        OK|   741xx|    USA|    D|       D5|       Not Verified|       200965.0|      Individual|            null|                     null|\n",
       "|07e81491adcc0e7c3...|               owner|   2 years|          RENT|   67350.0|        SC|   297xx|    USA|    E|       E3|    Source Verified|        74617.0|      Individual|            null|                     null|\n",
       "|6f5c275cbae528914...|                null|      null|      MORTGAGE|   95000.0|        CA|   954xx|    USA|    A|       A2|       Not Verified|       504496.0|      Individual|            null|                     null|\n",
       "|412a63a98577abf03...|             Manager| 10+ years|      MORTGAGE|  234000.0|        NJ|   088xx|    USA|    B|       B1|           Verified|       831222.0|      Individual|            null|                     null|\n",
       "|47196375e82e575cb...|      Machine Tester| 10+ years|          RENT|   42720.0|        CT|   061xx|    USA|    B|       B5|       Not Verified|        73949.0|      Individual|            null|                     null|\n",
       "|6f45755c48f1b4e98...|Assistant Project...|   2 years|      MORTGAGE|   42000.0|        NY|   117xx|    USA|    D|       D3|    Source Verified|        13500.0|      Individual|            null|                     null|\n",
       "|229e078da68df21b4...|Senior Account Ex...|  < 1 year|      MORTGAGE|  230000.0|        NH|   031xx|    USA|    B|       B2|    Source Verified|       489300.0|       Joint App|        297000.0|          Source Verified|\n",
       "|94e84e829870062c2...|Engineering Maint...|  < 1 year|      MORTGAGE|   75000.0|        TN|   371xx|    USA|    C|       C5|       Not Verified|       228778.0|      Individual|            null|                     null|\n",
       "+--------------------+--------------------+----------+--------------+----------+----------+--------+-------+-----+---------+-------------------+---------------+----------------+----------------+-------------------------+\n",
       "only showing top 20 rows"
      ]
     },
     "execution_count": 96,
     "metadata": {},
     "output_type": "execute_result"
    }
   ],
   "source": [
    "customer_raw_df"
   ]
  },
  {
   "cell_type": "code",
   "execution_count": 97,
   "id": "89226ffc",
   "metadata": {},
   "outputs": [
    {
     "name": "stdout",
     "output_type": "stream",
     "text": [
      "root\n",
      " |-- member_id: string (nullable = true)\n",
      " |-- emp_title: string (nullable = true)\n",
      " |-- emp_length: string (nullable = true)\n",
      " |-- home_ownership: string (nullable = true)\n",
      " |-- annual_inc: float (nullable = true)\n",
      " |-- addr_state: string (nullable = true)\n",
      " |-- zip_code: string (nullable = true)\n",
      " |-- country: string (nullable = true)\n",
      " |-- grade: string (nullable = true)\n",
      " |-- sub_grade: string (nullable = true)\n",
      " |-- verification_status: string (nullable = true)\n",
      " |-- tot_hi_cred_lim: float (nullable = true)\n",
      " |-- application_type: string (nullable = true)\n",
      " |-- annual_inc_joint: float (nullable = true)\n",
      " |-- verification_status_joint: string (nullable = true)\n",
      "\n"
     ]
    }
   ],
   "source": [
    "customer_raw_df.printSchema()"
   ]
  },
  {
   "cell_type": "markdown",
   "id": "711d5a72",
   "metadata": {},
   "source": [
    "#### 2 Rename columns"
   ]
  },
  {
   "cell_type": "code",
   "execution_count": 98,
   "id": "d9b971f5",
   "metadata": {},
   "outputs": [],
   "source": [
    "customer_df_renamed = customer_raw_df.withColumnRenamed(\"annual_inc\",\"annual_income\") \\\n",
    ".withColumnRenamed(\"addr_state\",\"address_state\") \\\n",
    ".withColumnRenamed(\"zip_code\",\"address_zipcode\") \\\n",
    ".withColumnRenamed(\"country\",\"address_country\") \\\n",
    ".withColumnRenamed(\"tot_hi_cred_lim\",\"total_high_credit_limit\") \\\n",
    ".withColumnRenamed(\"annual_inc_joint\",\"join_annual_income\")"
   ]
  },
  {
   "cell_type": "code",
   "execution_count": 99,
   "id": "61517c62",
   "metadata": {},
   "outputs": [
    {
     "data": {
      "text/html": [
       "<table border='1'>\n",
       "<tr><th>member_id</th><th>emp_title</th><th>emp_length</th><th>home_ownership</th><th>annual_income</th><th>address_state</th><th>address_zipcode</th><th>address_country</th><th>grade</th><th>sub_grade</th><th>verification_status</th><th>total_high_credit_limit</th><th>application_type</th><th>join_annual_income</th><th>verification_status_joint</th></tr>\n",
       "<tr><td>bfcec8da7b3f1fe83...</td><td>Regional Manager</td><td>8 years</td><td>RENT</td><td>130000.0</td><td>CT</td><td>069xx</td><td>USA</td><td>C</td><td>C3</td><td>Verified</td><td>135904.0</td><td>Individual</td><td>null</td><td>null</td></tr>\n",
       "<tr><td>36399458db4295868...</td><td>null</td><td>null</td><td>RENT</td><td>12000.0</td><td>CA</td><td>953xx</td><td>USA</td><td>C</td><td>C1</td><td>Verified</td><td>7700.0</td><td>Joint App</td><td>62000.0</td><td>Verified</td></tr>\n",
       "<tr><td>e4912b650878ca941...</td><td>Manager</td><td>6 years</td><td>MORTGAGE</td><td>103000.0</td><td>CA</td><td>922xx</td><td>USA</td><td>A</td><td>A2</td><td>Not Verified</td><td>511251.0</td><td>Individual</td><td>null</td><td>null</td></tr>\n",
       "<tr><td>3d6f35ad2e2be4572...</td><td>Clinical Coordinator</td><td>6 years</td><td>MORTGAGE</td><td>64300.0</td><td>NM</td><td>871xx</td><td>USA</td><td>D</td><td>D1</td><td>Source Verified</td><td>233646.0</td><td>Individual</td><td>null</td><td>null</td></tr>\n",
       "<tr><td>478e1cd37e35c20f7...</td><td>Warehouse supervisor</td><td>3 years</td><td>RENT</td><td>32000.0</td><td>NJ</td><td>073xx</td><td>USA</td><td>C</td><td>C4</td><td>Not Verified</td><td>44200.0</td><td>Individual</td><td>null</td><td>null</td></tr>\n",
       "<tr><td>a5d42e35cc0be2789...</td><td>Sales Manager</td><td>5 years</td><td>MORTGAGE</td><td>140000.0</td><td>CA</td><td>917xx</td><td>USA</td><td>C</td><td>C5</td><td>Source Verified</td><td>455867.0</td><td>Individual</td><td>null</td><td>null</td></tr>\n",
       "<tr><td>7f3ef55c784bf6b16...</td><td>Owner</td><td>10+ years</td><td>MORTGAGE</td><td>98000.0</td><td>NV</td><td>891xx</td><td>USA</td><td>A</td><td>A3</td><td>Source Verified</td><td>265000.0</td><td>Individual</td><td>null</td><td>null</td></tr>\n",
       "<tr><td>beb30abaeca08f49b...</td><td>Alternate Media S...</td><td>2 years</td><td>RENT</td><td>56000.0</td><td>CA</td><td>940xx</td><td>USA</td><td>D</td><td>D1</td><td>Source Verified</td><td>75023.0</td><td>Individual</td><td>null</td><td>null</td></tr>\n",
       "<tr><td>233e5e6797dd0a68b...</td><td>Hammerman</td><td>7 years</td><td>MORTGAGE</td><td>70000.0</td><td>OH</td><td>440xx</td><td>USA</td><td>C</td><td>C4</td><td>Source Verified</td><td>233341.0</td><td>Individual</td><td>null</td><td>null</td></tr>\n",
       "<tr><td>c4b178ffaf80ed472...</td><td>Civil Engineer</td><td>&lt; 1 year</td><td>RENT</td><td>120000.0</td><td>FL</td><td>321xx</td><td>USA</td><td>B</td><td>B3</td><td>Source Verified</td><td>97065.0</td><td>Individual</td><td>null</td><td>null</td></tr>\n",
       "<tr><td>7f45445bc792b29c7...</td><td>Lieutenant/Paramedic</td><td>10+ years</td><td>MORTGAGE</td><td>62258.0</td><td>MI</td><td>488xx</td><td>USA</td><td>C</td><td>C4</td><td>Verified</td><td>210409.0</td><td>Individual</td><td>null</td><td>null</td></tr>\n",
       "<tr><td>582a9b2d3a658ab05...</td><td>Shift supervisor</td><td>10+ years</td><td>OWN</td><td>45000.0</td><td>MI</td><td>480xx</td><td>USA</td><td>A</td><td>A2</td><td>Source Verified</td><td>119080.0</td><td>Individual</td><td>null</td><td>null</td></tr>\n",
       "<tr><td>f67ba01e72eb5f109...</td><td>customer service rep</td><td>4 years</td><td>MORTGAGE</td><td>42000.0</td><td>OK</td><td>741xx</td><td>USA</td><td>D</td><td>D5</td><td>Not Verified</td><td>200965.0</td><td>Individual</td><td>null</td><td>null</td></tr>\n",
       "<tr><td>07e81491adcc0e7c3...</td><td>owner</td><td>2 years</td><td>RENT</td><td>67350.0</td><td>SC</td><td>297xx</td><td>USA</td><td>E</td><td>E3</td><td>Source Verified</td><td>74617.0</td><td>Individual</td><td>null</td><td>null</td></tr>\n",
       "<tr><td>6f5c275cbae528914...</td><td>null</td><td>null</td><td>MORTGAGE</td><td>95000.0</td><td>CA</td><td>954xx</td><td>USA</td><td>A</td><td>A2</td><td>Not Verified</td><td>504496.0</td><td>Individual</td><td>null</td><td>null</td></tr>\n",
       "<tr><td>412a63a98577abf03...</td><td>Manager</td><td>10+ years</td><td>MORTGAGE</td><td>234000.0</td><td>NJ</td><td>088xx</td><td>USA</td><td>B</td><td>B1</td><td>Verified</td><td>831222.0</td><td>Individual</td><td>null</td><td>null</td></tr>\n",
       "<tr><td>47196375e82e575cb...</td><td>Machine Tester</td><td>10+ years</td><td>RENT</td><td>42720.0</td><td>CT</td><td>061xx</td><td>USA</td><td>B</td><td>B5</td><td>Not Verified</td><td>73949.0</td><td>Individual</td><td>null</td><td>null</td></tr>\n",
       "<tr><td>6f45755c48f1b4e98...</td><td>Assistant Project...</td><td>2 years</td><td>MORTGAGE</td><td>42000.0</td><td>NY</td><td>117xx</td><td>USA</td><td>D</td><td>D3</td><td>Source Verified</td><td>13500.0</td><td>Individual</td><td>null</td><td>null</td></tr>\n",
       "<tr><td>229e078da68df21b4...</td><td>Senior Account Ex...</td><td>&lt; 1 year</td><td>MORTGAGE</td><td>230000.0</td><td>NH</td><td>031xx</td><td>USA</td><td>B</td><td>B2</td><td>Source Verified</td><td>489300.0</td><td>Joint App</td><td>297000.0</td><td>Source Verified</td></tr>\n",
       "<tr><td>94e84e829870062c2...</td><td>Engineering Maint...</td><td>&lt; 1 year</td><td>MORTGAGE</td><td>75000.0</td><td>TN</td><td>371xx</td><td>USA</td><td>C</td><td>C5</td><td>Not Verified</td><td>228778.0</td><td>Individual</td><td>null</td><td>null</td></tr>\n",
       "</table>\n",
       "only showing top 20 rows\n"
      ],
      "text/plain": [
       "+--------------------+--------------------+----------+--------------+-------------+-------------+---------------+---------------+-----+---------+-------------------+-----------------------+----------------+------------------+-------------------------+\n",
       "|           member_id|           emp_title|emp_length|home_ownership|annual_income|address_state|address_zipcode|address_country|grade|sub_grade|verification_status|total_high_credit_limit|application_type|join_annual_income|verification_status_joint|\n",
       "+--------------------+--------------------+----------+--------------+-------------+-------------+---------------+---------------+-----+---------+-------------------+-----------------------+----------------+------------------+-------------------------+\n",
       "|bfcec8da7b3f1fe83...|    Regional Manager|   8 years|          RENT|     130000.0|           CT|          069xx|            USA|    C|       C3|           Verified|               135904.0|      Individual|              null|                     null|\n",
       "|36399458db4295868...|                null|      null|          RENT|      12000.0|           CA|          953xx|            USA|    C|       C1|           Verified|                 7700.0|       Joint App|           62000.0|                 Verified|\n",
       "|e4912b650878ca941...|             Manager|   6 years|      MORTGAGE|     103000.0|           CA|          922xx|            USA|    A|       A2|       Not Verified|               511251.0|      Individual|              null|                     null|\n",
       "|3d6f35ad2e2be4572...|Clinical Coordinator|   6 years|      MORTGAGE|      64300.0|           NM|          871xx|            USA|    D|       D1|    Source Verified|               233646.0|      Individual|              null|                     null|\n",
       "|478e1cd37e35c20f7...|Warehouse supervisor|   3 years|          RENT|      32000.0|           NJ|          073xx|            USA|    C|       C4|       Not Verified|                44200.0|      Individual|              null|                     null|\n",
       "|a5d42e35cc0be2789...|       Sales Manager|   5 years|      MORTGAGE|     140000.0|           CA|          917xx|            USA|    C|       C5|    Source Verified|               455867.0|      Individual|              null|                     null|\n",
       "|7f3ef55c784bf6b16...|               Owner| 10+ years|      MORTGAGE|      98000.0|           NV|          891xx|            USA|    A|       A3|    Source Verified|               265000.0|      Individual|              null|                     null|\n",
       "|beb30abaeca08f49b...|Alternate Media S...|   2 years|          RENT|      56000.0|           CA|          940xx|            USA|    D|       D1|    Source Verified|                75023.0|      Individual|              null|                     null|\n",
       "|233e5e6797dd0a68b...|           Hammerman|   7 years|      MORTGAGE|      70000.0|           OH|          440xx|            USA|    C|       C4|    Source Verified|               233341.0|      Individual|              null|                     null|\n",
       "|c4b178ffaf80ed472...|      Civil Engineer|  < 1 year|          RENT|     120000.0|           FL|          321xx|            USA|    B|       B3|    Source Verified|                97065.0|      Individual|              null|                     null|\n",
       "|7f45445bc792b29c7...|Lieutenant/Paramedic| 10+ years|      MORTGAGE|      62258.0|           MI|          488xx|            USA|    C|       C4|           Verified|               210409.0|      Individual|              null|                     null|\n",
       "|582a9b2d3a658ab05...|    Shift supervisor| 10+ years|           OWN|      45000.0|           MI|          480xx|            USA|    A|       A2|    Source Verified|               119080.0|      Individual|              null|                     null|\n",
       "|f67ba01e72eb5f109...|customer service rep|   4 years|      MORTGAGE|      42000.0|           OK|          741xx|            USA|    D|       D5|       Not Verified|               200965.0|      Individual|              null|                     null|\n",
       "|07e81491adcc0e7c3...|               owner|   2 years|          RENT|      67350.0|           SC|          297xx|            USA|    E|       E3|    Source Verified|                74617.0|      Individual|              null|                     null|\n",
       "|6f5c275cbae528914...|                null|      null|      MORTGAGE|      95000.0|           CA|          954xx|            USA|    A|       A2|       Not Verified|               504496.0|      Individual|              null|                     null|\n",
       "|412a63a98577abf03...|             Manager| 10+ years|      MORTGAGE|     234000.0|           NJ|          088xx|            USA|    B|       B1|           Verified|               831222.0|      Individual|              null|                     null|\n",
       "|47196375e82e575cb...|      Machine Tester| 10+ years|          RENT|      42720.0|           CT|          061xx|            USA|    B|       B5|       Not Verified|                73949.0|      Individual|              null|                     null|\n",
       "|6f45755c48f1b4e98...|Assistant Project...|   2 years|      MORTGAGE|      42000.0|           NY|          117xx|            USA|    D|       D3|    Source Verified|                13500.0|      Individual|              null|                     null|\n",
       "|229e078da68df21b4...|Senior Account Ex...|  < 1 year|      MORTGAGE|     230000.0|           NH|          031xx|            USA|    B|       B2|    Source Verified|               489300.0|       Joint App|          297000.0|          Source Verified|\n",
       "|94e84e829870062c2...|Engineering Maint...|  < 1 year|      MORTGAGE|      75000.0|           TN|          371xx|            USA|    C|       C5|       Not Verified|               228778.0|      Individual|              null|                     null|\n",
       "+--------------------+--------------------+----------+--------------+-------------+-------------+---------------+---------------+-----+---------+-------------------+-----------------------+----------------+------------------+-------------------------+\n",
       "only showing top 20 rows"
      ]
     },
     "execution_count": 99,
     "metadata": {},
     "output_type": "execute_result"
    }
   ],
   "source": [
    "customer_df_renamed"
   ]
  },
  {
   "cell_type": "markdown",
   "id": "e78e79ae",
   "metadata": {},
   "source": [
    "#### 3 ingestion of new column with current timestamp"
   ]
  },
  {
   "cell_type": "code",
   "execution_count": 100,
   "id": "acf6d17a",
   "metadata": {},
   "outputs": [],
   "source": [
    "from pyspark.sql.functions import current_timestamp"
   ]
  },
  {
   "cell_type": "code",
   "execution_count": 101,
   "id": "9e2d3f88",
   "metadata": {},
   "outputs": [],
   "source": [
    "customer_df_ingested = customer_df_renamed.withColumn(\"ingestion_date\",current_timestamp())"
   ]
  },
  {
   "cell_type": "code",
   "execution_count": 102,
   "id": "b9b3b2ed",
   "metadata": {},
   "outputs": [
    {
     "data": {
      "text/html": [
       "<table border='1'>\n",
       "<tr><th>member_id</th><th>emp_title</th><th>emp_length</th><th>home_ownership</th><th>annual_income</th><th>address_state</th><th>address_zipcode</th><th>address_country</th><th>grade</th><th>sub_grade</th><th>verification_status</th><th>total_high_credit_limit</th><th>application_type</th><th>join_annual_income</th><th>verification_status_joint</th><th>ingestion_date</th></tr>\n",
       "<tr><td>bfcec8da7b3f1fe83...</td><td>Regional Manager</td><td>8 years</td><td>RENT</td><td>130000.0</td><td>CT</td><td>069xx</td><td>USA</td><td>C</td><td>C3</td><td>Verified</td><td>135904.0</td><td>Individual</td><td>null</td><td>null</td><td>2024-11-27 02:31:...</td></tr>\n",
       "<tr><td>36399458db4295868...</td><td>null</td><td>null</td><td>RENT</td><td>12000.0</td><td>CA</td><td>953xx</td><td>USA</td><td>C</td><td>C1</td><td>Verified</td><td>7700.0</td><td>Joint App</td><td>62000.0</td><td>Verified</td><td>2024-11-27 02:31:...</td></tr>\n",
       "<tr><td>e4912b650878ca941...</td><td>Manager</td><td>6 years</td><td>MORTGAGE</td><td>103000.0</td><td>CA</td><td>922xx</td><td>USA</td><td>A</td><td>A2</td><td>Not Verified</td><td>511251.0</td><td>Individual</td><td>null</td><td>null</td><td>2024-11-27 02:31:...</td></tr>\n",
       "<tr><td>3d6f35ad2e2be4572...</td><td>Clinical Coordinator</td><td>6 years</td><td>MORTGAGE</td><td>64300.0</td><td>NM</td><td>871xx</td><td>USA</td><td>D</td><td>D1</td><td>Source Verified</td><td>233646.0</td><td>Individual</td><td>null</td><td>null</td><td>2024-11-27 02:31:...</td></tr>\n",
       "<tr><td>478e1cd37e35c20f7...</td><td>Warehouse supervisor</td><td>3 years</td><td>RENT</td><td>32000.0</td><td>NJ</td><td>073xx</td><td>USA</td><td>C</td><td>C4</td><td>Not Verified</td><td>44200.0</td><td>Individual</td><td>null</td><td>null</td><td>2024-11-27 02:31:...</td></tr>\n",
       "<tr><td>a5d42e35cc0be2789...</td><td>Sales Manager</td><td>5 years</td><td>MORTGAGE</td><td>140000.0</td><td>CA</td><td>917xx</td><td>USA</td><td>C</td><td>C5</td><td>Source Verified</td><td>455867.0</td><td>Individual</td><td>null</td><td>null</td><td>2024-11-27 02:31:...</td></tr>\n",
       "<tr><td>7f3ef55c784bf6b16...</td><td>Owner</td><td>10+ years</td><td>MORTGAGE</td><td>98000.0</td><td>NV</td><td>891xx</td><td>USA</td><td>A</td><td>A3</td><td>Source Verified</td><td>265000.0</td><td>Individual</td><td>null</td><td>null</td><td>2024-11-27 02:31:...</td></tr>\n",
       "<tr><td>beb30abaeca08f49b...</td><td>Alternate Media S...</td><td>2 years</td><td>RENT</td><td>56000.0</td><td>CA</td><td>940xx</td><td>USA</td><td>D</td><td>D1</td><td>Source Verified</td><td>75023.0</td><td>Individual</td><td>null</td><td>null</td><td>2024-11-27 02:31:...</td></tr>\n",
       "<tr><td>233e5e6797dd0a68b...</td><td>Hammerman</td><td>7 years</td><td>MORTGAGE</td><td>70000.0</td><td>OH</td><td>440xx</td><td>USA</td><td>C</td><td>C4</td><td>Source Verified</td><td>233341.0</td><td>Individual</td><td>null</td><td>null</td><td>2024-11-27 02:31:...</td></tr>\n",
       "<tr><td>c4b178ffaf80ed472...</td><td>Civil Engineer</td><td>&lt; 1 year</td><td>RENT</td><td>120000.0</td><td>FL</td><td>321xx</td><td>USA</td><td>B</td><td>B3</td><td>Source Verified</td><td>97065.0</td><td>Individual</td><td>null</td><td>null</td><td>2024-11-27 02:31:...</td></tr>\n",
       "<tr><td>7f45445bc792b29c7...</td><td>Lieutenant/Paramedic</td><td>10+ years</td><td>MORTGAGE</td><td>62258.0</td><td>MI</td><td>488xx</td><td>USA</td><td>C</td><td>C4</td><td>Verified</td><td>210409.0</td><td>Individual</td><td>null</td><td>null</td><td>2024-11-27 02:31:...</td></tr>\n",
       "<tr><td>582a9b2d3a658ab05...</td><td>Shift supervisor</td><td>10+ years</td><td>OWN</td><td>45000.0</td><td>MI</td><td>480xx</td><td>USA</td><td>A</td><td>A2</td><td>Source Verified</td><td>119080.0</td><td>Individual</td><td>null</td><td>null</td><td>2024-11-27 02:31:...</td></tr>\n",
       "<tr><td>f67ba01e72eb5f109...</td><td>customer service rep</td><td>4 years</td><td>MORTGAGE</td><td>42000.0</td><td>OK</td><td>741xx</td><td>USA</td><td>D</td><td>D5</td><td>Not Verified</td><td>200965.0</td><td>Individual</td><td>null</td><td>null</td><td>2024-11-27 02:31:...</td></tr>\n",
       "<tr><td>07e81491adcc0e7c3...</td><td>owner</td><td>2 years</td><td>RENT</td><td>67350.0</td><td>SC</td><td>297xx</td><td>USA</td><td>E</td><td>E3</td><td>Source Verified</td><td>74617.0</td><td>Individual</td><td>null</td><td>null</td><td>2024-11-27 02:31:...</td></tr>\n",
       "<tr><td>6f5c275cbae528914...</td><td>null</td><td>null</td><td>MORTGAGE</td><td>95000.0</td><td>CA</td><td>954xx</td><td>USA</td><td>A</td><td>A2</td><td>Not Verified</td><td>504496.0</td><td>Individual</td><td>null</td><td>null</td><td>2024-11-27 02:31:...</td></tr>\n",
       "<tr><td>412a63a98577abf03...</td><td>Manager</td><td>10+ years</td><td>MORTGAGE</td><td>234000.0</td><td>NJ</td><td>088xx</td><td>USA</td><td>B</td><td>B1</td><td>Verified</td><td>831222.0</td><td>Individual</td><td>null</td><td>null</td><td>2024-11-27 02:31:...</td></tr>\n",
       "<tr><td>47196375e82e575cb...</td><td>Machine Tester</td><td>10+ years</td><td>RENT</td><td>42720.0</td><td>CT</td><td>061xx</td><td>USA</td><td>B</td><td>B5</td><td>Not Verified</td><td>73949.0</td><td>Individual</td><td>null</td><td>null</td><td>2024-11-27 02:31:...</td></tr>\n",
       "<tr><td>6f45755c48f1b4e98...</td><td>Assistant Project...</td><td>2 years</td><td>MORTGAGE</td><td>42000.0</td><td>NY</td><td>117xx</td><td>USA</td><td>D</td><td>D3</td><td>Source Verified</td><td>13500.0</td><td>Individual</td><td>null</td><td>null</td><td>2024-11-27 02:31:...</td></tr>\n",
       "<tr><td>229e078da68df21b4...</td><td>Senior Account Ex...</td><td>&lt; 1 year</td><td>MORTGAGE</td><td>230000.0</td><td>NH</td><td>031xx</td><td>USA</td><td>B</td><td>B2</td><td>Source Verified</td><td>489300.0</td><td>Joint App</td><td>297000.0</td><td>Source Verified</td><td>2024-11-27 02:31:...</td></tr>\n",
       "<tr><td>94e84e829870062c2...</td><td>Engineering Maint...</td><td>&lt; 1 year</td><td>MORTGAGE</td><td>75000.0</td><td>TN</td><td>371xx</td><td>USA</td><td>C</td><td>C5</td><td>Not Verified</td><td>228778.0</td><td>Individual</td><td>null</td><td>null</td><td>2024-11-27 02:31:...</td></tr>\n",
       "</table>\n",
       "only showing top 20 rows\n"
      ],
      "text/plain": [
       "+--------------------+--------------------+----------+--------------+-------------+-------------+---------------+---------------+-----+---------+-------------------+-----------------------+----------------+------------------+-------------------------+--------------------+\n",
       "|           member_id|           emp_title|emp_length|home_ownership|annual_income|address_state|address_zipcode|address_country|grade|sub_grade|verification_status|total_high_credit_limit|application_type|join_annual_income|verification_status_joint|      ingestion_date|\n",
       "+--------------------+--------------------+----------+--------------+-------------+-------------+---------------+---------------+-----+---------+-------------------+-----------------------+----------------+------------------+-------------------------+--------------------+\n",
       "|bfcec8da7b3f1fe83...|    Regional Manager|   8 years|          RENT|     130000.0|           CT|          069xx|            USA|    C|       C3|           Verified|               135904.0|      Individual|              null|                     null|2024-11-27 02:31:...|\n",
       "|36399458db4295868...|                null|      null|          RENT|      12000.0|           CA|          953xx|            USA|    C|       C1|           Verified|                 7700.0|       Joint App|           62000.0|                 Verified|2024-11-27 02:31:...|\n",
       "|e4912b650878ca941...|             Manager|   6 years|      MORTGAGE|     103000.0|           CA|          922xx|            USA|    A|       A2|       Not Verified|               511251.0|      Individual|              null|                     null|2024-11-27 02:31:...|\n",
       "|3d6f35ad2e2be4572...|Clinical Coordinator|   6 years|      MORTGAGE|      64300.0|           NM|          871xx|            USA|    D|       D1|    Source Verified|               233646.0|      Individual|              null|                     null|2024-11-27 02:31:...|\n",
       "|478e1cd37e35c20f7...|Warehouse supervisor|   3 years|          RENT|      32000.0|           NJ|          073xx|            USA|    C|       C4|       Not Verified|                44200.0|      Individual|              null|                     null|2024-11-27 02:31:...|\n",
       "|a5d42e35cc0be2789...|       Sales Manager|   5 years|      MORTGAGE|     140000.0|           CA|          917xx|            USA|    C|       C5|    Source Verified|               455867.0|      Individual|              null|                     null|2024-11-27 02:31:...|\n",
       "|7f3ef55c784bf6b16...|               Owner| 10+ years|      MORTGAGE|      98000.0|           NV|          891xx|            USA|    A|       A3|    Source Verified|               265000.0|      Individual|              null|                     null|2024-11-27 02:31:...|\n",
       "|beb30abaeca08f49b...|Alternate Media S...|   2 years|          RENT|      56000.0|           CA|          940xx|            USA|    D|       D1|    Source Verified|                75023.0|      Individual|              null|                     null|2024-11-27 02:31:...|\n",
       "|233e5e6797dd0a68b...|           Hammerman|   7 years|      MORTGAGE|      70000.0|           OH|          440xx|            USA|    C|       C4|    Source Verified|               233341.0|      Individual|              null|                     null|2024-11-27 02:31:...|\n",
       "|c4b178ffaf80ed472...|      Civil Engineer|  < 1 year|          RENT|     120000.0|           FL|          321xx|            USA|    B|       B3|    Source Verified|                97065.0|      Individual|              null|                     null|2024-11-27 02:31:...|\n",
       "|7f45445bc792b29c7...|Lieutenant/Paramedic| 10+ years|      MORTGAGE|      62258.0|           MI|          488xx|            USA|    C|       C4|           Verified|               210409.0|      Individual|              null|                     null|2024-11-27 02:31:...|\n",
       "|582a9b2d3a658ab05...|    Shift supervisor| 10+ years|           OWN|      45000.0|           MI|          480xx|            USA|    A|       A2|    Source Verified|               119080.0|      Individual|              null|                     null|2024-11-27 02:31:...|\n",
       "|f67ba01e72eb5f109...|customer service rep|   4 years|      MORTGAGE|      42000.0|           OK|          741xx|            USA|    D|       D5|       Not Verified|               200965.0|      Individual|              null|                     null|2024-11-27 02:31:...|\n",
       "|07e81491adcc0e7c3...|               owner|   2 years|          RENT|      67350.0|           SC|          297xx|            USA|    E|       E3|    Source Verified|                74617.0|      Individual|              null|                     null|2024-11-27 02:31:...|\n",
       "|6f5c275cbae528914...|                null|      null|      MORTGAGE|      95000.0|           CA|          954xx|            USA|    A|       A2|       Not Verified|               504496.0|      Individual|              null|                     null|2024-11-27 02:31:...|\n",
       "|412a63a98577abf03...|             Manager| 10+ years|      MORTGAGE|     234000.0|           NJ|          088xx|            USA|    B|       B1|           Verified|               831222.0|      Individual|              null|                     null|2024-11-27 02:31:...|\n",
       "|47196375e82e575cb...|      Machine Tester| 10+ years|          RENT|      42720.0|           CT|          061xx|            USA|    B|       B5|       Not Verified|                73949.0|      Individual|              null|                     null|2024-11-27 02:31:...|\n",
       "|6f45755c48f1b4e98...|Assistant Project...|   2 years|      MORTGAGE|      42000.0|           NY|          117xx|            USA|    D|       D3|    Source Verified|                13500.0|      Individual|              null|                     null|2024-11-27 02:31:...|\n",
       "|229e078da68df21b4...|Senior Account Ex...|  < 1 year|      MORTGAGE|     230000.0|           NH|          031xx|            USA|    B|       B2|    Source Verified|               489300.0|       Joint App|          297000.0|          Source Verified|2024-11-27 02:31:...|\n",
       "|94e84e829870062c2...|Engineering Maint...|  < 1 year|      MORTGAGE|      75000.0|           TN|          371xx|            USA|    C|       C5|       Not Verified|               228778.0|      Individual|              null|                     null|2024-11-27 02:31:...|\n",
       "+--------------------+--------------------+----------+--------------+-------------+-------------+---------------+---------------+-----+---------+-------------------+-----------------------+----------------+------------------+-------------------------+--------------------+\n",
       "only showing top 20 rows"
      ]
     },
     "execution_count": 102,
     "metadata": {},
     "output_type": "execute_result"
    }
   ],
   "source": [
    "customer_df_ingested"
   ]
  },
  {
   "cell_type": "markdown",
   "id": "baa3041d",
   "metadata": {},
   "source": [
    "#### 4 remove duplicates"
   ]
  },
  {
   "cell_type": "code",
   "execution_count": 103,
   "id": "ff9ff34b",
   "metadata": {},
   "outputs": [
    {
     "data": {
      "text/plain": [
       "2260701"
      ]
     },
     "execution_count": 103,
     "metadata": {},
     "output_type": "execute_result"
    }
   ],
   "source": [
    "customer_df_ingested.count()"
   ]
  },
  {
   "cell_type": "code",
   "execution_count": 104,
   "id": "adb7051e",
   "metadata": {},
   "outputs": [],
   "source": [
    "customer_df_distinct = customer_df_ingested.distinct()"
   ]
  },
  {
   "cell_type": "code",
   "execution_count": 105,
   "id": "429591ac",
   "metadata": {},
   "outputs": [
    {
     "data": {
      "text/plain": [
       "2260638"
      ]
     },
     "execution_count": 105,
     "metadata": {},
     "output_type": "execute_result"
    }
   ],
   "source": [
    "customer_df_distinct.count()"
   ]
  },
  {
   "cell_type": "markdown",
   "id": "f499a374",
   "metadata": {},
   "source": [
    "#### 5 remove rows where annual income is null "
   ]
  },
  {
   "cell_type": "code",
   "execution_count": 106,
   "id": "06954e93",
   "metadata": {},
   "outputs": [],
   "source": [
    "customer_df_distinct.createOrReplaceTempView(\"customers\")"
   ]
  },
  {
   "cell_type": "code",
   "execution_count": 107,
   "id": "5a9a2896",
   "metadata": {},
   "outputs": [
    {
     "data": {
      "text/html": [
       "<table border='1'>\n",
       "<tr><th>member_id</th><th>emp_title</th><th>emp_length</th><th>home_ownership</th><th>annual_income</th><th>address_state</th><th>address_zipcode</th><th>address_country</th><th>grade</th><th>sub_grade</th><th>verification_status</th><th>total_high_credit_limit</th><th>application_type</th><th>join_annual_income</th><th>verification_status_joint</th><th>ingestion_date</th></tr>\n",
       "<tr><td>dc450b16903e42804...</td><td>Design Supervisor</td><td>10+ years</td><td>MORTGAGE</td><td>110000.0</td><td>MI</td><td>480xx</td><td>USA</td><td>B</td><td>B5</td><td>Source Verified</td><td>220741.0</td><td>Individual</td><td>null</td><td>null</td><td>2024-11-27 02:32:...</td></tr>\n",
       "<tr><td>503072e98746b4984...</td><td>PTA</td><td>2 years</td><td>RENT</td><td>94000.0</td><td>AZ</td><td>855xx</td><td>USA</td><td>A</td><td>A3</td><td>Source Verified</td><td>234083.0</td><td>Individual</td><td>null</td><td>null</td><td>2024-11-27 02:32:...</td></tr>\n",
       "<tr><td>4d55b61ff26df21b9...</td><td>inspection</td><td>10+ years</td><td>OWN</td><td>60840.0</td><td>KY</td><td>402xx</td><td>USA</td><td>D</td><td>D3</td><td>Not Verified</td><td>182418.0</td><td>Individual</td><td>null</td><td>null</td><td>2024-11-27 02:32:...</td></tr>\n",
       "<tr><td>f075aa38a51d20294...</td><td>Claims Examiner</td><td>4 years</td><td>RENT</td><td>27000.0</td><td>FL</td><td>337xx</td><td>USA</td><td>A</td><td>A3</td><td>Not Verified</td><td>66835.0</td><td>Individual</td><td>null</td><td>null</td><td>2024-11-27 02:32:...</td></tr>\n",
       "<tr><td>6bd5e77c47d99bac4...</td><td>President</td><td>5 years</td><td>OWN</td><td>55000.0</td><td>MS</td><td>390xx</td><td>USA</td><td>D</td><td>D1</td><td>Source Verified</td><td>30820.0</td><td>Individual</td><td>null</td><td>null</td><td>2024-11-27 02:32:...</td></tr>\n",
       "</table>\n"
      ],
      "text/plain": [
       "+--------------------+----------------+----------+--------------+-------------+-------------+---------------+---------------+-----+---------+-------------------+-----------------------+----------------+------------------+-------------------------+--------------------+\n",
       "|           member_id|       emp_title|emp_length|home_ownership|annual_income|address_state|address_zipcode|address_country|grade|sub_grade|verification_status|total_high_credit_limit|application_type|join_annual_income|verification_status_joint|      ingestion_date|\n",
       "+--------------------+----------------+----------+--------------+-------------+-------------+---------------+---------------+-----+---------+-------------------+-----------------------+----------------+------------------+-------------------------+--------------------+\n",
       "|83629abfef539d583...|           nurse|   3 years|           OWN|      35000.0|           OH|          457xx|            USA|    D|       D1|    Source Verified|                42091.0|      Individual|              null|                     null|2024-11-27 02:32:...|\n",
       "|192d4528a3c247c4f...|    Assistant GM|   3 years|          RENT|      40000.0|           MN|          553xx|            USA|    C|       C4|       Not Verified|                14737.0|      Individual|              null|                     null|2024-11-27 02:32:...|\n",
       "|d49f073419721798c...|Train Dispatcher| 10+ years|      MORTGAGE|      92000.0|           GA|          301xx|            USA|    A|       A4|    Source Verified|               381972.0|      Individual|              null|                     null|2024-11-27 02:32:...|\n",
       "|c0be797d0b439ca99...|            null|      null|      MORTGAGE|      53800.0|           NY|          142xx|            USA|    C|       C4|           Verified|               242629.0|      Individual|              null|                     null|2024-11-27 02:32:...|\n",
       "|097826b1f03ce949f...|  Office manager|   9 years|           OWN|      28500.0|           KY|          403xx|            USA|    C|       C2|           Verified|               138750.0|       Joint App|           73500.0|             Not Verified|2024-11-27 02:32:...|\n",
       "+--------------------+----------------+----------+--------------+-------------+-------------+---------------+---------------+-----+---------+-------------------+-----------------------+----------------+------------------+-------------------------+--------------------+"
      ]
     },
     "execution_count": 107,
     "metadata": {},
     "output_type": "execute_result"
    }
   ],
   "source": [
    "spark.sql(\"select * from customers limit 5\")"
   ]
  },
  {
   "cell_type": "code",
   "execution_count": 108,
   "id": "9c8aeb95",
   "metadata": {},
   "outputs": [
    {
     "data": {
      "text/html": [
       "<table border='1'>\n",
       "<tr><th>count(1)</th></tr>\n",
       "<tr><td>5</td></tr>\n",
       "</table>\n"
      ],
      "text/plain": [
       "+--------+\n",
       "|count(1)|\n",
       "+--------+\n",
       "|       5|\n",
       "+--------+"
      ]
     },
     "execution_count": 108,
     "metadata": {},
     "output_type": "execute_result"
    }
   ],
   "source": [
    "spark.sql(\"\"\" select count(1) from customers where annual_income is null\n",
    "\"\"\")"
   ]
  },
  {
   "cell_type": "code",
   "execution_count": 109,
   "id": "13561686",
   "metadata": {},
   "outputs": [
    {
     "data": {
      "text/html": [
       "<table border='1'>\n",
       "<tr><th>from</th></tr>\n",
       "<tr><td>2260633</td></tr>\n",
       "</table>\n"
      ],
      "text/plain": [
       "+-------+\n",
       "|   from|\n",
       "+-------+\n",
       "|2260633|\n",
       "+-------+"
      ]
     },
     "execution_count": 109,
     "metadata": {},
     "output_type": "execute_result"
    }
   ],
   "source": [
    "spark.sql(\"\"\" select count(*) from from customers where annual_income is not null\"\"\")"
   ]
  },
  {
   "cell_type": "code",
   "execution_count": 110,
   "id": "761963f2",
   "metadata": {},
   "outputs": [],
   "source": [
    "customers_income_filtered = spark.sql(\"select * from customers where annual_income is not null\")"
   ]
  },
  {
   "cell_type": "code",
   "execution_count": 111,
   "id": "5f855213",
   "metadata": {},
   "outputs": [
    {
     "data": {
      "text/html": [
       "<table border='1'>\n",
       "<tr><th>member_id</th><th>emp_title</th><th>emp_length</th><th>home_ownership</th><th>annual_income</th><th>address_state</th><th>address_zipcode</th><th>address_country</th><th>grade</th><th>sub_grade</th><th>verification_status</th><th>total_high_credit_limit</th><th>application_type</th><th>join_annual_income</th><th>verification_status_joint</th><th>ingestion_date</th></tr>\n",
       "<tr><td>4e4a66a1a44845fcc...</td><td>Simulation Coordi...</td><td>10+ years</td><td>MORTGAGE</td><td>75000.0</td><td>NV</td><td>895xx</td><td>USA</td><td>A</td><td>A5</td><td>Not Verified</td><td>353171.0</td><td>Individual</td><td>null</td><td>null</td><td>2024-11-27 02:32:...</td></tr>\n",
       "<tr><td>36e6676aba97d33d4...</td><td>Mortgage Loan Pro...</td><td>2 years</td><td>RENT</td><td>50000.0</td><td>FL</td><td>323xx</td><td>USA</td><td>C</td><td>C1</td><td>Not Verified</td><td>57834.0</td><td>Individual</td><td>null</td><td>null</td><td>2024-11-27 02:32:...</td></tr>\n",
       "<tr><td>63286baa7acdd1cd5...</td><td>Medical Coder</td><td>4 years</td><td>MORTGAGE</td><td>65000.0</td><td>AZ</td><td>857xx</td><td>USA</td><td>C</td><td>C3</td><td>Not Verified</td><td>264289.0</td><td>Individual</td><td>null</td><td>null</td><td>2024-11-27 02:32:...</td></tr>\n",
       "<tr><td>e36e30e0f0ac81074...</td><td>Material specialist</td><td>10+ years</td><td>RENT</td><td>47174.0</td><td>PA</td><td>172xx</td><td>USA</td><td>E</td><td>E5</td><td>Not Verified</td><td>57493.0</td><td>Individual</td><td>null</td><td>null</td><td>2024-11-27 02:32:...</td></tr>\n",
       "<tr><td>dddfb95150c484bc0...</td><td>null</td><td>null</td><td>MORTGAGE</td><td>74000.0</td><td>NV</td><td>891xx</td><td>USA</td><td>B</td><td>B2</td><td>Not Verified</td><td>259606.0</td><td>Individual</td><td>null</td><td>null</td><td>2024-11-27 02:32:...</td></tr>\n",
       "<tr><td>9ab08ee3e41e0d595...</td><td>Server</td><td>1 year</td><td>RENT</td><td>15000.0</td><td>FL</td><td>334xx</td><td>USA</td><td>F</td><td>F5</td><td>Verified</td><td>14336.0</td><td>Individual</td><td>null</td><td>null</td><td>2024-11-27 02:32:...</td></tr>\n",
       "<tr><td>2a2c5b05dd792ab14...</td><td>Line lead</td><td>&lt; 1 year</td><td>RENT</td><td>32000.0</td><td>WI</td><td>532xx</td><td>USA</td><td>A</td><td>A1</td><td>Source Verified</td><td>87944.0</td><td>Individual</td><td>null</td><td>null</td><td>2024-11-27 02:32:...</td></tr>\n",
       "<tr><td>68beb834846f21561...</td><td>Franchisee/ Owner</td><td>4 years</td><td>MORTGAGE</td><td>98300.0</td><td>TX</td><td>770xx</td><td>USA</td><td>E</td><td>E4</td><td>Not Verified</td><td>185272.0</td><td>Individual</td><td>null</td><td>null</td><td>2024-11-27 02:32:...</td></tr>\n",
       "<tr><td>8dbaa75f49b9b4ae4...</td><td>commercial desk</td><td>10+ years</td><td>MORTGAGE</td><td>58000.0</td><td>MI</td><td>497xx</td><td>USA</td><td>C</td><td>C1</td><td>Source Verified</td><td>168471.0</td><td>Individual</td><td>null</td><td>null</td><td>2024-11-27 02:32:...</td></tr>\n",
       "<tr><td>79d76a3fd5f54fd73...</td><td>Security Specialist</td><td>&lt; 1 year</td><td>RENT</td><td>118000.0</td><td>NY</td><td>142xx</td><td>USA</td><td>A</td><td>A4</td><td>Not Verified</td><td>75800.0</td><td>Individual</td><td>null</td><td>null</td><td>2024-11-27 02:32:...</td></tr>\n",
       "<tr><td>171f72c87a6526933...</td><td>HR/Payroll Assistant</td><td>10+ years</td><td>MORTGAGE</td><td>72000.0</td><td>VT</td><td>056xx</td><td>USA</td><td>A</td><td>A5</td><td>Not Verified</td><td>248746.0</td><td>Individual</td><td>null</td><td>null</td><td>2024-11-27 02:32:...</td></tr>\n",
       "<tr><td>a56cdc6f3ad8850c7...</td><td>General Manager</td><td>2 years</td><td>RENT</td><td>90000.0</td><td>MD</td><td>207xx</td><td>USA</td><td>C</td><td>C1</td><td>Source Verified</td><td>90796.0</td><td>Individual</td><td>null</td><td>null</td><td>2024-11-27 02:32:...</td></tr>\n",
       "<tr><td>15ebfe894cb984881...</td><td>null</td><td>&lt; 1 year</td><td>MORTGAGE</td><td>49000.0</td><td>AK</td><td>999xx</td><td>USA</td><td>A</td><td>A1</td><td>Source Verified</td><td>26800.0</td><td>Individual</td><td>null</td><td>null</td><td>2024-11-27 02:32:...</td></tr>\n",
       "<tr><td>c1d55a54b38bb811a...</td><td>UniServ Director</td><td>10+ years</td><td>MORTGAGE</td><td>160000.0</td><td>WA</td><td>992xx</td><td>USA</td><td>B</td><td>B3</td><td>Verified</td><td>323556.0</td><td>Joint App</td><td>200000.0</td><td>Source Verified</td><td>2024-11-27 02:32:...</td></tr>\n",
       "<tr><td>519836df414c15c0a...</td><td>Director of Payroll</td><td>2 years</td><td>RENT</td><td>180000.0</td><td>NJ</td><td>070xx</td><td>USA</td><td>A</td><td>A4</td><td>Not Verified</td><td>308984.0</td><td>Individual</td><td>null</td><td>null</td><td>2024-11-27 02:32:...</td></tr>\n",
       "<tr><td>a2a356066c9e29b64...</td><td>Academic Advisor</td><td>2 years</td><td>RENT</td><td>42000.0</td><td>MA</td><td>021xx</td><td>USA</td><td>A</td><td>A5</td><td>Verified</td><td>141071.0</td><td>Joint App</td><td>100000.0</td><td>Verified</td><td>2024-11-27 02:32:...</td></tr>\n",
       "<tr><td>37b4591c2ff533428...</td><td>null</td><td>null</td><td>RENT</td><td>24000.0</td><td>CA</td><td>956xx</td><td>USA</td><td>C</td><td>C2</td><td>Not Verified</td><td>34522.0</td><td>Individual</td><td>null</td><td>null</td><td>2024-11-27 02:32:...</td></tr>\n",
       "<tr><td>d78368aa9d7a434a6...</td><td>null</td><td>&lt; 1 year</td><td>MORTGAGE</td><td>37000.0</td><td>FL</td><td>347xx</td><td>USA</td><td>D</td><td>D2</td><td>Source Verified</td><td>204131.0</td><td>Joint App</td><td>70000.0</td><td>Source Verified</td><td>2024-11-27 02:32:...</td></tr>\n",
       "<tr><td>5e7f4bea07657bdd6...</td><td>Pharmacy Support ...</td><td>10+ years</td><td>MORTGAGE</td><td>40000.0</td><td>PA</td><td>171xx</td><td>USA</td><td>E</td><td>E5</td><td>Verified</td><td>127376.0</td><td>Individual</td><td>null</td><td>null</td><td>2024-11-27 02:32:...</td></tr>\n",
       "<tr><td>172c26d8c2bf3ae9b...</td><td>Lead Technician</td><td>10+ years</td><td>MORTGAGE</td><td>80000.0</td><td>AZ</td><td>851xx</td><td>USA</td><td>D</td><td>D1</td><td>Source Verified</td><td>364209.0</td><td>Joint App</td><td>140080.0</td><td>Source Verified</td><td>2024-11-27 02:32:...</td></tr>\n",
       "</table>\n",
       "only showing top 20 rows\n"
      ],
      "text/plain": [
       "+--------------------+--------------------+----------+--------------+-------------+-------------+---------------+---------------+-----+---------+-------------------+-----------------------+----------------+------------------+-------------------------+--------------------+\n",
       "|           member_id|           emp_title|emp_length|home_ownership|annual_income|address_state|address_zipcode|address_country|grade|sub_grade|verification_status|total_high_credit_limit|application_type|join_annual_income|verification_status_joint|      ingestion_date|\n",
       "+--------------------+--------------------+----------+--------------+-------------+-------------+---------------+---------------+-----+---------+-------------------+-----------------------+----------------+------------------+-------------------------+--------------------+\n",
       "|65d7ded0f4ca0138f...|      Coach Operator|   4 years|      MORTGAGE|      94000.0|           CA|          954xx|            USA|    B|       B2|       Not Verified|               144156.0|      Individual|              null|                     null|2024-11-27 02:32:...|\n",
       "|7924b0aeca4774f6a...|    Business Analyst|    1 year|      MORTGAGE|      79000.0|           SC|          294xx|            USA|    B|       B5|       Not Verified|               237033.0|      Individual|              null|                     null|2024-11-27 02:32:...|\n",
       "|cc9c97c4092d91bd6...| Sightseeing Manager|   2 years|          RENT|      70000.0|           NY|          112xx|            USA|    C|       C4|    Source Verified|                22500.0|      Individual|              null|                     null|2024-11-27 02:32:...|\n",
       "|63286baa7acdd1cd5...|       Medical Coder|   4 years|      MORTGAGE|      65000.0|           AZ|          857xx|            USA|    C|       C3|       Not Verified|               264289.0|      Individual|              null|                     null|2024-11-27 02:32:...|\n",
       "|1ab1ea301d161f690...|SCADA Systems Eng...|   5 years|      MORTGAGE|     170000.0|           OK|          730xx|            USA|    A|       A5|    Source Verified|               241701.0|      Individual|              null|                     null|2024-11-27 02:32:...|\n",
       "|5940f84efbfd7cf29...|Director, JENSEN ...| 10+ years|           OWN|     167000.0|           TN|          373xx|            USA|    B|       B4|           Verified|               434780.0|      Individual|              null|                     null|2024-11-27 02:32:...|\n",
       "|d4ff97a61e00fe0f9...|lighting specifie...|    1 year|          RENT|      68000.0|           OR|          970xx|            USA|    B|       B4|    Source Verified|               153911.0|      Individual|              null|                     null|2024-11-27 02:32:...|\n",
       "|588e95d954af3d253...|Accounting Superv...| 10+ years|      MORTGAGE|      72000.0|           WI|          531xx|            USA|    D|       D5|       Not Verified|               260142.0|      Individual|              null|                     null|2024-11-27 02:32:...|\n",
       "|2528858c6474e5a9b...|Program Coordinat...|   4 years|      MORTGAGE|      54768.0|           AZ|          857xx|            USA|    B|       B2|    Source Verified|               237314.0|      Individual|              null|                     null|2024-11-27 02:32:...|\n",
       "|ba880ff03f4faddf4...|     General manager|   3 years|           OWN|      62800.0|           NY|          117xx|            USA|    C|       C5|    Source Verified|                73500.0|      Individual|              null|                     null|2024-11-27 02:32:...|\n",
       "|ec2b39805e15676ff...|              Driver|    1 year|          RENT|      40000.0|           NY|          119xx|            USA|    B|       B4|    Source Verified|                26000.0|      Individual|              null|                     null|2024-11-27 02:32:...|\n",
       "|105f4ed1bdb0db464...|           Secretary| 10+ years|      MORTGAGE|      48000.0|           KY|          407xx|            USA|    A|       A3|       Not Verified|               118700.0|       Joint App|          112000.0|             Not Verified|2024-11-27 02:32:...|\n",
       "|9fb8569ddcb6d5c9d...|           Caretaker|   7 years|           OWN|      60000.0|           PA|          173xx|            USA|    C|       C2|       Not Verified|                76287.0|      Individual|              null|                     null|2024-11-27 02:32:...|\n",
       "|0308fbc546df71717...|Head of Employee ...|  < 1 year|          RENT|     220000.0|           NJ|          076xx|            USA|    D|       D1|       Not Verified|               108789.0|      Individual|              null|                     null|2024-11-27 02:32:...|\n",
       "|851687ce014e30a85...|     Relief operator| 10+ years|      MORTGAGE|      60000.0|           MI|          494xx|            USA|    B|       B4|    Source Verified|               150148.0|      Individual|              null|                     null|2024-11-27 02:32:...|\n",
       "|88fd1a8888bd0704e...|    Customer service|   3 years|          RENT|      25000.0|           TN|          374xx|            USA|    A|       A3|    Source Verified|                38458.0|      Individual|              null|                     null|2024-11-27 02:32:...|\n",
       "|cd1061aa99585d943...|             Geology|   3 years|          RENT|      71000.0|           CA|          931xx|            USA|    A|       A3|    Source Verified|                53250.0|      Individual|              null|                     null|2024-11-27 02:32:...|\n",
       "|6dd36dc294c9f8e10...|    Registered Nurse|  < 1 year|      MORTGAGE|     126000.0|           IL|          604xx|            USA|    C|       C2|    Source Verified|               126649.0|      Individual|              null|                     null|2024-11-27 02:32:...|\n",
       "|1a53fd089eabd9e26...|     insurance agent|   7 years|      MORTGAGE|      35000.0|           NC|          280xx|            USA|    B|       B2|       Not Verified|                81750.0|      Individual|              null|                     null|2024-11-27 02:32:...|\n",
       "|76e5c5123b8fc1a76...|                null|      null|          RENT|      28800.0|           IN|          461xx|            USA|    B|       B1|           Verified|                18400.0|      Individual|              null|                     null|2024-11-27 02:32:...|\n",
       "+--------------------+--------------------+----------+--------------+-------------+-------------+---------------+---------------+-----+---------+-------------------+-----------------------+----------------+------------------+-------------------------+--------------------+\n",
       "only showing top 20 rows"
      ]
     },
     "execution_count": 111,
     "metadata": {},
     "output_type": "execute_result"
    }
   ],
   "source": [
    "customers_income_filtered"
   ]
  },
  {
   "cell_type": "code",
   "execution_count": 112,
   "id": "52d9158a",
   "metadata": {},
   "outputs": [],
   "source": [
    "customers_income_filtered.createOrReplaceTempView(\"customers_income_filtered\")"
   ]
  },
  {
   "cell_type": "code",
   "execution_count": 113,
   "id": "fd71553b",
   "metadata": {},
   "outputs": [
    {
     "data": {
      "text/html": [
       "<table border='1'>\n",
       "<tr><th>count(1)</th></tr>\n",
       "<tr><td>2260633</td></tr>\n",
       "</table>\n"
      ],
      "text/plain": [
       "+--------+\n",
       "|count(1)|\n",
       "+--------+\n",
       "| 2260633|\n",
       "+--------+"
      ]
     },
     "execution_count": 113,
     "metadata": {},
     "output_type": "execute_result"
    }
   ],
   "source": [
    "spark.sql(\"select count(*) from customers_income_filtered\")"
   ]
  },
  {
   "cell_type": "markdown",
   "id": "2c0b54ed",
   "metadata": {},
   "source": [
    "#### convert emp_length to integer"
   ]
  },
  {
   "cell_type": "code",
   "execution_count": 114,
   "id": "3b0c8050",
   "metadata": {},
   "outputs": [
    {
     "name": "stdout",
     "output_type": "stream",
     "text": [
      "+----------+\n",
      "|emp_length|\n",
      "+----------+\n",
      "|   5 years|\n",
      "|   9 years|\n",
      "|      null|\n",
      "|    1 year|\n",
      "|   2 years|\n",
      "|   7 years|\n",
      "|   8 years|\n",
      "|   4 years|\n",
      "|   6 years|\n",
      "|   3 years|\n",
      "| 10+ years|\n",
      "|  < 1 year|\n",
      "+----------+\n",
      "\n"
     ]
    }
   ],
   "source": [
    "spark.sql(\"select distinct(emp_length) from customers_income_filtered\").show()"
   ]
  },
  {
   "cell_type": "code",
   "execution_count": 115,
   "id": "6a0b0118",
   "metadata": {},
   "outputs": [],
   "source": [
    "from pyspark.sql.functions import regexp_replace, col"
   ]
  },
  {
   "cell_type": "code",
   "execution_count": 116,
   "id": "1414a37d",
   "metadata": {},
   "outputs": [],
   "source": [
    "customers_emplength_cleaned = customers_income_filtered.withColumn(\"emp_length\",regexp_replace(col(\"emp_length\"),\"(\\D)\",\"\"))"
   ]
  },
  {
   "cell_type": "code",
   "execution_count": 117,
   "id": "ab58fb39",
   "metadata": {},
   "outputs": [
    {
     "data": {
      "text/html": [
       "<table border='1'>\n",
       "<tr><th>member_id</th><th>emp_title</th><th>emp_length</th><th>home_ownership</th><th>annual_income</th><th>address_state</th><th>address_zipcode</th><th>address_country</th><th>grade</th><th>sub_grade</th><th>verification_status</th><th>total_high_credit_limit</th><th>application_type</th><th>join_annual_income</th><th>verification_status_joint</th><th>ingestion_date</th></tr>\n",
       "<tr><td>fdc7159945735c5c9...</td><td>Estee Lauder</td><td>2</td><td>RENT</td><td>113000.0</td><td>NY</td><td>100xx</td><td>USA</td><td>C</td><td>C1</td><td>Not Verified</td><td>null</td><td>Individual</td><td>null</td><td>null</td><td>2024-11-27 02:33:...</td></tr>\n",
       "<tr><td>8ba603fd5fb4e99b9...</td><td>Livable Forest Fence</td><td>6</td><td>MORTGAGE</td><td>42000.0</td><td>TX</td><td>773xx</td><td>USA</td><td>A</td><td>A5</td><td>Not Verified</td><td>null</td><td>Individual</td><td>null</td><td>null</td><td>2024-11-27 02:33:...</td></tr>\n",
       "<tr><td>35c7b1f45bbb91d5e...</td><td>FunGoPlay</td><td>3</td><td>MORTGAGE</td><td>132000.0</td><td>NJ</td><td>070xx</td><td>USA</td><td>C</td><td>C1</td><td>Not Verified</td><td>null</td><td>Individual</td><td>null</td><td>null</td><td>2024-11-27 02:33:...</td></tr>\n",
       "<tr><td>e7bc49dd0dc8b149d...</td><td>EBMS</td><td>7</td><td>MORTGAGE</td><td>78000.0</td><td>MT</td><td>591xx</td><td>USA</td><td>B</td><td>B1</td><td>Not Verified</td><td>null</td><td>Individual</td><td>null</td><td>null</td><td>2024-11-27 02:33:...</td></tr>\n",
       "<tr><td>185e2391829026f1a...</td><td>USAA</td><td>10</td><td>MORTGAGE</td><td>57000.0</td><td>AZ</td><td>853xx</td><td>USA</td><td>C</td><td>C5</td><td>Verified</td><td>null</td><td>Individual</td><td>null</td><td>null</td><td>2024-11-27 02:33:...</td></tr>\n",
       "<tr><td>5856bab1b1fb0dfa8...</td><td>Duke Energy</td><td>10</td><td>MORTGAGE</td><td>135000.0</td><td>NC</td><td>287xx</td><td>USA</td><td>A</td><td>A4</td><td>Source Verified</td><td>null</td><td>Individual</td><td>null</td><td>null</td><td>2024-11-27 02:33:...</td></tr>\n",
       "<tr><td>59ab6fd8219efc969...</td><td>DTCC</td><td>10</td><td>RENT</td><td>63700.0</td><td>NY</td><td>112xx</td><td>USA</td><td>C</td><td>C4</td><td>Not Verified</td><td>null</td><td>Individual</td><td>null</td><td>null</td><td>2024-11-27 02:33:...</td></tr>\n",
       "<tr><td>6505d0990adbb1ae2...</td><td>Stonehenge Advisors</td><td>1</td><td>RENT</td><td>30000.0</td><td>NJ</td><td>080xx</td><td>USA</td><td>A</td><td>A3</td><td>Source Verified</td><td>null</td><td>Individual</td><td>null</td><td>null</td><td>2024-11-27 02:33:...</td></tr>\n",
       "<tr><td>36adee5ac261d7b5a...</td><td>null</td><td>null</td><td>RENT</td><td>86400.0</td><td>CA</td><td>920xx</td><td>USA</td><td>B</td><td>B2</td><td>Verified</td><td>null</td><td>Individual</td><td>null</td><td>null</td><td>2024-11-27 02:33:...</td></tr>\n",
       "<tr><td>a423c37785e2b8762...</td><td>The Sherwin-Willi...</td><td>1</td><td>MORTGAGE</td><td>115200.0</td><td>FL</td><td>323xx</td><td>USA</td><td>A</td><td>A2</td><td>Source Verified</td><td>null</td><td>Individual</td><td>null</td><td>null</td><td>2024-11-27 02:33:...</td></tr>\n",
       "<tr><td>5ceafabf2c00b48d6...</td><td>null</td><td>null</td><td>RENT</td><td>15240.0</td><td>AZ</td><td>852xx</td><td>USA</td><td>C</td><td>C2</td><td>Verified</td><td>null</td><td>Individual</td><td>null</td><td>null</td><td>2024-11-27 02:33:...</td></tr>\n",
       "<tr><td>8d4207b806dab5002...</td><td>saitech inc</td><td>10</td><td>MORTGAGE</td><td>108000.0</td><td>CA</td><td>910xx</td><td>USA</td><td>C</td><td>C2</td><td>Verified</td><td>null</td><td>Individual</td><td>null</td><td>null</td><td>2024-11-27 02:33:...</td></tr>\n",
       "<tr><td>c3903e02e63034f04...</td><td>PC, Inc</td><td>10</td><td>MORTGAGE</td><td>286000.0</td><td>IL</td><td>601xx</td><td>USA</td><td>A</td><td>A2</td><td>Verified</td><td>null</td><td>Individual</td><td>null</td><td>null</td><td>2024-11-27 02:33:...</td></tr>\n",
       "<tr><td>88f6ea013c5872218...</td><td>Attila Contractor</td><td>7</td><td>OWN</td><td>19200.0</td><td>FL</td><td>330xx</td><td>USA</td><td>A</td><td>A1</td><td>Not Verified</td><td>null</td><td>Individual</td><td>null</td><td>null</td><td>2024-11-27 02:33:...</td></tr>\n",
       "<tr><td>02935e3e7200883a4...</td><td>MILCOM Venture Pa...</td><td>2</td><td>RENT</td><td>80000.0</td><td>FL</td><td>327xx</td><td>USA</td><td>A</td><td>A1</td><td>Not Verified</td><td>null</td><td>Individual</td><td>null</td><td>null</td><td>2024-11-27 02:33:...</td></tr>\n",
       "<tr><td>5020ae97982f3db8d...</td><td>pinnacle rehab</td><td>5</td><td>MORTGAGE</td><td>106000.0</td><td>CA</td><td>922xx</td><td>USA</td><td>B</td><td>B3</td><td>Source Verified</td><td>null</td><td>Individual</td><td>null</td><td>null</td><td>2024-11-27 02:33:...</td></tr>\n",
       "<tr><td>676b13c7904ccd75b...</td><td>Livenation Entert...</td><td>5</td><td>MORTGAGE</td><td>90000.0</td><td>CA</td><td>913xx</td><td>USA</td><td>A</td><td>A1</td><td>Not Verified</td><td>null</td><td>Individual</td><td>null</td><td>null</td><td>2024-11-27 02:33:...</td></tr>\n",
       "<tr><td>823e8e9ce08c05e08...</td><td>null</td><td>null</td><td>RENT</td><td>47000.0</td><td>CA</td><td>917xx</td><td>USA</td><td>A</td><td>A5</td><td>Verified</td><td>null</td><td>Individual</td><td>null</td><td>null</td><td>2024-11-27 02:33:...</td></tr>\n",
       "<tr><td>c7e9076a99ffdc243...</td><td>Valley National Bank</td><td>2</td><td>RENT</td><td>27000.0</td><td>NJ</td><td>070xx</td><td>USA</td><td>A</td><td>A5</td><td>Verified</td><td>null</td><td>Individual</td><td>null</td><td>null</td><td>2024-11-27 02:33:...</td></tr>\n",
       "<tr><td>f8c887747df2c7923...</td><td>Lockwood Advisors</td><td>4</td><td>RENT</td><td>58295.0</td><td>PA</td><td>191xx</td><td>USA</td><td>D</td><td>D2</td><td>Verified</td><td>null</td><td>Individual</td><td>null</td><td>null</td><td>2024-11-27 02:33:...</td></tr>\n",
       "</table>\n",
       "only showing top 20 rows\n"
      ],
      "text/plain": [
       "+--------------------+--------------------+----------+--------------+-------------+-------------+---------------+---------------+-----+---------+-------------------+-----------------------+----------------+------------------+-------------------------+--------------------+\n",
       "|           member_id|           emp_title|emp_length|home_ownership|annual_income|address_state|address_zipcode|address_country|grade|sub_grade|verification_status|total_high_credit_limit|application_type|join_annual_income|verification_status_joint|      ingestion_date|\n",
       "+--------------------+--------------------+----------+--------------+-------------+-------------+---------------+---------------+-----+---------+-------------------+-----------------------+----------------+------------------+-------------------------+--------------------+\n",
       "|d2dda48fcd64921d9...|            Wal-mart|         4|           OWN|      18000.0|           KS|          675xx|            USA|    A|       A4|    Source Verified|                   null|      Individual|              null|                     null|2024-11-27 02:33:...|\n",
       "|5b9fd5d775f3749df...|Public Service El...|         7|          RENT|      60000.0|           NJ|          070xx|            USA|    C|       C1|           Verified|                   null|      Individual|              null|                     null|2024-11-27 02:33:...|\n",
       "|d56a8e7252b0b75de...|            Rayonier|         1|          RENT|      55000.0|           FL|          322xx|            USA|    A|       A5|    Source Verified|                   null|      Individual|              null|                     null|2024-11-27 02:33:...|\n",
       "|ead59b50bf857dcdf...|Michelin North Am...|        10|      MORTGAGE|      55000.0|           SC|          290xx|            USA|    D|       D2|       Not Verified|                   null|      Individual|              null|                     null|2024-11-27 02:33:...|\n",
       "|c013b0563441c6bad...|      Alameda County|         9|          RENT|      60000.0|           CA|          945xx|            USA|    B|       B3|       Not Verified|                   null|      Individual|              null|                     null|2024-11-27 02:33:...|\n",
       "|80f5c56d53d92e764...|Meketa Investment...|         3|      MORTGAGE|     100000.0|           MA|          020xx|            USA|    B|       B2|    Source Verified|                   null|      Individual|              null|                     null|2024-11-27 02:33:...|\n",
       "|ac890e6dd177256f2...| Montefiore hospital|        10|          RENT|      40000.0|           NY|          104xx|            USA|    A|       A4|       Not Verified|                   null|      Individual|              null|                     null|2024-11-27 02:33:...|\n",
       "|95e1c2c62128d8fc0...|      rac mechanical|         6|          RENT|      90000.0|           NY|          113xx|            USA|    B|       B4|           Verified|                   null|      Individual|              null|                     null|2024-11-27 02:33:...|\n",
       "|84e72102ac2c49688...| laborers local  #91|        10|          RENT|      79968.0|           NY|          140xx|            USA|    D|       D4|    Source Verified|                   null|      Individual|              null|                     null|2024-11-27 02:33:...|\n",
       "|70166a9669227693f...|           HD Supply|         6|           OWN|      38000.0|           FL|          320xx|            USA|    B|       B2|           Verified|                   null|      Individual|              null|                     null|2024-11-27 02:33:...|\n",
       "|bcaa35c4137a58474...|International Fun...|         4|          RENT|      70000.0|           NJ|          088xx|            USA|    A|       A2|       Not Verified|                   null|      Individual|              null|                     null|2024-11-27 02:33:...|\n",
       "|97bc911112bc6e35f...|                 UPS|        10|      MORTGAGE|      75000.0|           AZ|          864xx|            USA|    C|       C2|           Verified|                   null|      Individual|              null|                     null|2024-11-27 02:33:...|\n",
       "|00741a50a28b196b9...|Lincoln Square Sy...|         7|          RENT|      36000.0|           NY|          113xx|            USA|    E|       E4|    Source Verified|                   null|      Individual|              null|                     null|2024-11-27 02:33:...|\n",
       "|18da777615d3b66a0...|                null|        10|          RENT|      30000.0|           NY|          112xx|            USA|    A|       A1|       Not Verified|                   null|      Individual|              null|                     null|2024-11-27 02:33:...|\n",
       "|9f238149d17e9d0a5...|            TM Forum|         1|          RENT|      42499.0|           NJ|          078xx|            USA|    B|       B3|       Not Verified|                   null|      Individual|              null|                     null|2024-11-27 02:33:...|\n",
       "|9348748afdd1c531b...|        the hartford|         9|      MORTGAGE|     160000.0|           CT|          060xx|            USA|    B|       B5|           Verified|                   null|      Individual|              null|                     null|2024-11-27 02:33:...|\n",
       "|59f7829b1f453f5cd...|           McGladrey|         4|          RENT|      78000.0|           MD|          209xx|            USA|    A|       A2|           Verified|                   null|      Individual|              null|                     null|2024-11-27 02:33:...|\n",
       "|a2d8eee42e4d99b71...|                null|         5|          RENT|      50000.0|           TX|          784xx|            USA|    C|       C2|    Source Verified|                   null|      Individual|              null|                     null|2024-11-27 02:33:...|\n",
       "|28eed98efff20b59b...|           Citigroup|         6|           OWN|     150000.0|           NY|          112xx|            USA|    E|       E4|    Source Verified|                   null|      Individual|              null|                     null|2024-11-27 02:33:...|\n",
       "|1b913922326dbc3b8...|      EDP Renewables|         1|      MORTGAGE|      39000.0|           MN|          561xx|            USA|    C|       C4|       Not Verified|                   null|      Individual|              null|                     null|2024-11-27 02:33:...|\n",
       "+--------------------+--------------------+----------+--------------+-------------+-------------+---------------+---------------+-----+---------+-------------------+-----------------------+----------------+------------------+-------------------------+--------------------+\n",
       "only showing top 20 rows"
      ]
     },
     "execution_count": 117,
     "metadata": {},
     "output_type": "execute_result"
    }
   ],
   "source": [
    "customers_emplength_cleaned"
   ]
  },
  {
   "cell_type": "code",
   "execution_count": 118,
   "id": "d352fdf8",
   "metadata": {},
   "outputs": [
    {
     "name": "stdout",
     "output_type": "stream",
     "text": [
      "root\n",
      " |-- member_id: string (nullable = true)\n",
      " |-- emp_title: string (nullable = true)\n",
      " |-- emp_length: string (nullable = true)\n",
      " |-- home_ownership: string (nullable = true)\n",
      " |-- annual_income: float (nullable = true)\n",
      " |-- address_state: string (nullable = true)\n",
      " |-- address_zipcode: string (nullable = true)\n",
      " |-- address_country: string (nullable = true)\n",
      " |-- grade: string (nullable = true)\n",
      " |-- sub_grade: string (nullable = true)\n",
      " |-- verification_status: string (nullable = true)\n",
      " |-- total_high_credit_limit: float (nullable = true)\n",
      " |-- application_type: string (nullable = true)\n",
      " |-- join_annual_income: float (nullable = true)\n",
      " |-- verification_status_joint: string (nullable = true)\n",
      " |-- ingestion_date: timestamp (nullable = false)\n",
      "\n"
     ]
    }
   ],
   "source": [
    "customers_emplength_cleaned.printSchema()"
   ]
  },
  {
   "cell_type": "code",
   "execution_count": 119,
   "id": "792b9580",
   "metadata": {},
   "outputs": [],
   "source": [
    "customers_emp_lenght_casted = customers_emplength_cleaned.withColumn(\"emp_length\",customers_emplength_cleaned.emp_length.cast('int'))"
   ]
  },
  {
   "cell_type": "code",
   "execution_count": 120,
   "id": "a3d13bab",
   "metadata": {},
   "outputs": [
    {
     "data": {
      "text/html": [
       "<table border='1'>\n",
       "<tr><th>member_id</th><th>emp_title</th><th>emp_length</th><th>home_ownership</th><th>annual_income</th><th>address_state</th><th>address_zipcode</th><th>address_country</th><th>grade</th><th>sub_grade</th><th>verification_status</th><th>total_high_credit_limit</th><th>application_type</th><th>join_annual_income</th><th>verification_status_joint</th><th>ingestion_date</th></tr>\n",
       "<tr><td>4bd94ddd4bcb36da0...</td><td>null</td><td>null</td><td>MORTGAGE</td><td>28000.0</td><td>KY</td><td>400xx</td><td>USA</td><td>C</td><td>C4</td><td>Verified</td><td>38505.0</td><td>Individual</td><td>null</td><td>null</td><td>2024-11-27 02:33:...</td></tr>\n",
       "<tr><td>8e3b5d19e9ae66187...</td><td>Portfolio Manager</td><td>10</td><td>MORTGAGE</td><td>150000.0</td><td>CT</td><td>066xx</td><td>USA</td><td>B</td><td>B1</td><td>Not Verified</td><td>340526.0</td><td>Individual</td><td>null</td><td>null</td><td>2024-11-27 02:33:...</td></tr>\n",
       "<tr><td>bee05b905fcac97d5...</td><td>Transportation Su...</td><td>2</td><td>MORTGAGE</td><td>65000.0</td><td>NJ</td><td>087xx</td><td>USA</td><td>A</td><td>A5</td><td>Verified</td><td>85124.0</td><td>Individual</td><td>null</td><td>null</td><td>2024-11-27 02:33:...</td></tr>\n",
       "<tr><td>dd3f8f0eefc43c649...</td><td>Abf</td><td>5</td><td>RENT</td><td>48000.0</td><td>VA</td><td>234xx</td><td>USA</td><td>C</td><td>C1</td><td>Verified</td><td>84441.0</td><td>Individual</td><td>null</td><td>null</td><td>2024-11-27 02:33:...</td></tr>\n",
       "<tr><td>b8612e97733ea8b0b...</td><td>Ops Manager</td><td>10</td><td>OWN</td><td>188000.0</td><td>NY</td><td>117xx</td><td>USA</td><td>E</td><td>E1</td><td>Not Verified</td><td>130493.0</td><td>Individual</td><td>null</td><td>null</td><td>2024-11-27 02:33:...</td></tr>\n",
       "<tr><td>8d0e471f3a1ebe8b1...</td><td>Unit Manager</td><td>10</td><td>MORTGAGE</td><td>98000.0</td><td>PA</td><td>160xx</td><td>USA</td><td>A</td><td>A3</td><td>Verified</td><td>265854.0</td><td>Individual</td><td>null</td><td>null</td><td>2024-11-27 02:33:...</td></tr>\n",
       "<tr><td>e255601833e59fe57...</td><td>Plans review Tech</td><td>9</td><td>RENT</td><td>53000.0</td><td>CO</td><td>802xx</td><td>USA</td><td>B</td><td>B3</td><td>Source Verified</td><td>40373.0</td><td>Individual</td><td>null</td><td>null</td><td>2024-11-27 02:33:...</td></tr>\n",
       "<tr><td>5d7e7089f85c307c5...</td><td>Director Mail Ser...</td><td>10</td><td>MORTGAGE</td><td>75000.0</td><td>CA</td><td>935xx</td><td>USA</td><td>B</td><td>B1</td><td>Not Verified</td><td>353480.0</td><td>Individual</td><td>null</td><td>null</td><td>2024-11-27 02:33:...</td></tr>\n",
       "<tr><td>6feeeca8d783a17ce...</td><td>null</td><td>null</td><td>MORTGAGE</td><td>18984.0</td><td>GA</td><td>302xx</td><td>USA</td><td>D</td><td>D3</td><td>Verified</td><td>162422.0</td><td>Individual</td><td>null</td><td>null</td><td>2024-11-27 02:33:...</td></tr>\n",
       "<tr><td>8cfaaad65b7c80eaf...</td><td>Analyst</td><td>10</td><td>RENT</td><td>75000.0</td><td>GA</td><td>300xx</td><td>USA</td><td>D</td><td>D5</td><td>Source Verified</td><td>82874.0</td><td>Individual</td><td>null</td><td>null</td><td>2024-11-27 02:33:...</td></tr>\n",
       "<tr><td>820ed6fc1798fa85b...</td><td>executive steward</td><td>5</td><td>RENT</td><td>90000.0</td><td>CA</td><td>919xx</td><td>USA</td><td>C</td><td>C1</td><td>Verified</td><td>67877.0</td><td>Individual</td><td>null</td><td>null</td><td>2024-11-27 02:33:...</td></tr>\n",
       "<tr><td>e6a4e2282ecf02a34...</td><td>Administrative as...</td><td>1</td><td>RENT</td><td>70000.0</td><td>CA</td><td>940xx</td><td>USA</td><td>B</td><td>B5</td><td>Source Verified</td><td>24025.0</td><td>Individual</td><td>null</td><td>null</td><td>2024-11-27 02:33:...</td></tr>\n",
       "<tr><td>67241b445b8b58292...</td><td>Production superv...</td><td>10</td><td>MORTGAGE</td><td>119000.0</td><td>MD</td><td>214xx</td><td>USA</td><td>D</td><td>D4</td><td>Verified</td><td>459625.0</td><td>Individual</td><td>null</td><td>null</td><td>2024-11-27 02:33:...</td></tr>\n",
       "<tr><td>ca4b6adb2ef780379...</td><td>null</td><td>null</td><td>RENT</td><td>8592.0</td><td>MI</td><td>481xx</td><td>USA</td><td>C</td><td>C4</td><td>Verified</td><td>12500.0</td><td>Individual</td><td>null</td><td>null</td><td>2024-11-27 02:33:...</td></tr>\n",
       "<tr><td>ce191f43f5c78b91a...</td><td>Supervisor</td><td>10</td><td>MORTGAGE</td><td>104000.0</td><td>MI</td><td>482xx</td><td>USA</td><td>C</td><td>C3</td><td>Source Verified</td><td>84852.0</td><td>Individual</td><td>null</td><td>null</td><td>2024-11-27 02:33:...</td></tr>\n",
       "<tr><td>b128fbce2ec52869a...</td><td>Architect</td><td>1</td><td>MORTGAGE</td><td>165000.0</td><td>NC</td><td>273xx</td><td>USA</td><td>C</td><td>C4</td><td>Source Verified</td><td>277669.0</td><td>Individual</td><td>null</td><td>null</td><td>2024-11-27 02:33:...</td></tr>\n",
       "<tr><td>145d4ca81b3f01694...</td><td>Client Service As...</td><td>1</td><td>RENT</td><td>45000.0</td><td>IL</td><td>606xx</td><td>USA</td><td>C</td><td>C1</td><td>Verified</td><td>31595.0</td><td>Individual</td><td>null</td><td>null</td><td>2024-11-27 02:33:...</td></tr>\n",
       "<tr><td>9f3721fce20f5f23b...</td><td>Financial Controller</td><td>1</td><td>OWN</td><td>95000.0</td><td>TX</td><td>750xx</td><td>USA</td><td>D</td><td>D2</td><td>Source Verified</td><td>263733.0</td><td>Individual</td><td>null</td><td>null</td><td>2024-11-27 02:33:...</td></tr>\n",
       "<tr><td>2962804c532beb05a...</td><td>Supervisor</td><td>1</td><td>RENT</td><td>20000.0</td><td>CT</td><td>067xx</td><td>USA</td><td>D</td><td>D1</td><td>Verified</td><td>57089.0</td><td>Individual</td><td>null</td><td>null</td><td>2024-11-27 02:33:...</td></tr>\n",
       "<tr><td>36cd5e2025805089e...</td><td>Sales Agent</td><td>4</td><td>MORTGAGE</td><td>100000.0</td><td>NY</td><td>104xx</td><td>USA</td><td>D</td><td>D1</td><td>Verified</td><td>117050.0</td><td>Individual</td><td>null</td><td>null</td><td>2024-11-27 02:33:...</td></tr>\n",
       "</table>\n",
       "only showing top 20 rows\n"
      ],
      "text/plain": [
       "+--------------------+--------------------+----------+--------------+-------------+-------------+---------------+---------------+-----+---------+-------------------+-----------------------+----------------+------------------+-------------------------+--------------------+\n",
       "|           member_id|           emp_title|emp_length|home_ownership|annual_income|address_state|address_zipcode|address_country|grade|sub_grade|verification_status|total_high_credit_limit|application_type|join_annual_income|verification_status_joint|      ingestion_date|\n",
       "+--------------------+--------------------+----------+--------------+-------------+-------------+---------------+---------------+-----+---------+-------------------+-----------------------+----------------+------------------+-------------------------+--------------------+\n",
       "|b6b71e924d760cc0c...|NYC DEPARTMENT OF...|         1|          RENT|      30100.0|           NY|          113xx|            USA|    B|       B4|    Source Verified|                   null|      Individual|              null|                     null|2024-11-27 02:33:...|\n",
       "|c5ad311612916bfcf...|FANUC Robotics Am...|         3|      MORTGAGE|     150000.0|           FL|          322xx|            USA|    D|       D2|    Source Verified|                   null|      Individual|              null|                     null|2024-11-27 02:33:...|\n",
       "|9a6aa990fd0cd4aa4...|  (Synda Foods, Inc)|         1|      MORTGAGE|      65000.0|           CA|          928xx|            USA|    B|       B5|           Verified|                   null|      Individual|              null|                     null|2024-11-27 02:33:...|\n",
       "|1104172f48b55850e...|stevens point pol...|        10|      MORTGAGE|      55000.0|           WI|          544xx|            USA|    B|       B2|       Not Verified|                   null|      Individual|              null|                     null|2024-11-27 02:33:...|\n",
       "|c9d8196d73d3c8d1f...|      Seaboard Farms|         1|          RENT|      48000.0|           OK|          739xx|            USA|    B|       B4|       Not Verified|                   null|      Individual|              null|                     null|2024-11-27 02:33:...|\n",
       "|cdeb705cb74ba4027...|        NBCUniversal|         5|          RENT|      40000.0|           CA|          902xx|            USA|    B|       B5|           Verified|                   null|      Individual|              null|                     null|2024-11-27 02:33:...|\n",
       "|2587fa80d7a8c6ff9...| Century Communities|         1|          RENT|      77500.0|           CO|          801xx|            USA|    E|       E3|           Verified|                   null|      Individual|              null|                     null|2024-11-27 02:33:...|\n",
       "|53d706bb22c65bca9...|               Kelly|         1|          RENT|      35000.0|           CA|          955xx|            USA|    A|       A2|    Source Verified|                   null|      Individual|              null|                     null|2024-11-27 02:33:...|\n",
       "|9244272ad07985265...|Casabella Holding...|        10|      MORTGAGE|     106000.0|           NY|          109xx|            USA|    B|       B4|       Not Verified|                   null|      Individual|              null|                     null|2024-11-27 02:33:...|\n",
       "|e152aa210c6def84d...|             gcr ltd|         1|      MORTGAGE|     192000.0|           OH|          432xx|            USA|    B|       B1|       Not Verified|                   null|      Individual|              null|                     null|2024-11-27 02:33:...|\n",
       "|e9c661ba41abc2e4b...|barnes and noble ...|         8|          RENT|      75000.0|           OH|          430xx|            USA|    C|       C5|    Source Verified|                   null|      Individual|              null|                     null|2024-11-27 02:33:...|\n",
       "|227afd6ab0b63ad4d...|Institute of Read...|         1|          RENT|      38000.0|           OR|          975xx|            USA|    B|       B2|    Source Verified|                   null|      Individual|              null|                     null|2024-11-27 02:33:...|\n",
       "|c4b4ece9e944fcd80...|Integralnet Marke...|         4|          RENT|      85000.0|           CA|          928xx|            USA|    A|       A4|    Source Verified|                   null|      Individual|              null|                     null|2024-11-27 02:33:...|\n",
       "|daaa4a2854232eca6...|                  3M|        10|           OWN|      96000.0|           TX|          787xx|            USA|    D|       D2|           Verified|                   null|      Individual|              null|                     null|2024-11-27 02:33:...|\n",
       "|40c488f7f7851b524...|empire scaffold, llc|        10|      MORTGAGE|      91200.0|           LA|          707xx|            USA|    B|       B5|       Not Verified|                   null|      Individual|              null|                     null|2024-11-27 02:33:...|\n",
       "|b33a08b6389cebcc2...|Farmers Insurance...|         5|      MORTGAGE|      67000.0|           FL|          333xx|            USA|    A|       A4|    Source Verified|                   null|      Individual|              null|                     null|2024-11-27 02:33:...|\n",
       "|3e72714fcf9980473...|    Yolo County DESS|        10|      MORTGAGE|     104847.0|           CA|          957xx|            USA|    E|       E5|           Verified|                   null|      Individual|              null|                     null|2024-11-27 02:33:...|\n",
       "|067ea1760a3eb3ea2...|      idtown express|         5|          RENT|      34000.0|           NY|          100xx|            USA|    B|       B4|           Verified|                   null|      Individual|              null|                     null|2024-11-27 02:33:...|\n",
       "|d85214c5e1e96a513...|West Valley Staff...|         1|          RENT|      48000.0|           CA|          950xx|            USA|    B|       B1|       Not Verified|                   null|      Individual|              null|                     null|2024-11-27 02:33:...|\n",
       "|50354abd9c919320b...|                At&t|         5|      MORTGAGE|      60000.0|           IL|          604xx|            USA|    A|       A4|           Verified|                   null|      Individual|              null|                     null|2024-11-27 02:33:...|\n",
       "+--------------------+--------------------+----------+--------------+-------------+-------------+---------------+---------------+-----+---------+-------------------+-----------------------+----------------+------------------+-------------------------+--------------------+\n",
       "only showing top 20 rows"
      ]
     },
     "execution_count": 120,
     "metadata": {},
     "output_type": "execute_result"
    }
   ],
   "source": [
    "customers_emp_lenght_casted"
   ]
  },
  {
   "cell_type": "code",
   "execution_count": 121,
   "id": "970a8670",
   "metadata": {},
   "outputs": [
    {
     "name": "stdout",
     "output_type": "stream",
     "text": [
      "root\n",
      " |-- member_id: string (nullable = true)\n",
      " |-- emp_title: string (nullable = true)\n",
      " |-- emp_length: integer (nullable = true)\n",
      " |-- home_ownership: string (nullable = true)\n",
      " |-- annual_income: float (nullable = true)\n",
      " |-- address_state: string (nullable = true)\n",
      " |-- address_zipcode: string (nullable = true)\n",
      " |-- address_country: string (nullable = true)\n",
      " |-- grade: string (nullable = true)\n",
      " |-- sub_grade: string (nullable = true)\n",
      " |-- verification_status: string (nullable = true)\n",
      " |-- total_high_credit_limit: float (nullable = true)\n",
      " |-- application_type: string (nullable = true)\n",
      " |-- join_annual_income: float (nullable = true)\n",
      " |-- verification_status_joint: string (nullable = true)\n",
      " |-- ingestion_date: timestamp (nullable = false)\n",
      "\n"
     ]
    }
   ],
   "source": [
    "customers_emp_lenght_casted.printSchema()"
   ]
  },
  {
   "cell_type": "markdown",
   "id": "1499d7e7",
   "metadata": {},
   "source": [
    "#### 7 we need to replace all the nulls in emp_length column with average of this column"
   ]
  },
  {
   "cell_type": "code",
   "execution_count": 122,
   "id": "0f90e140",
   "metadata": {},
   "outputs": [
    {
     "data": {
      "text/plain": [
       "146903"
      ]
     },
     "execution_count": 122,
     "metadata": {},
     "output_type": "execute_result"
    }
   ],
   "source": [
    "customers_emp_lenght_casted.filter(\"emp_length is null\").count()"
   ]
  },
  {
   "cell_type": "code",
   "execution_count": 123,
   "id": "3676d8ad",
   "metadata": {},
   "outputs": [],
   "source": [
    "customers_emp_lenght_casted.createOrReplaceTempView(\"customers\")"
   ]
  },
  {
   "cell_type": "code",
   "execution_count": 124,
   "id": "06ae321b",
   "metadata": {},
   "outputs": [],
   "source": [
    "avg_emp_length = spark.sql(\"select floor(avg(emp_length)) as avg_emp_length from customers\").collect()"
   ]
  },
  {
   "cell_type": "code",
   "execution_count": 125,
   "id": "23e36aec",
   "metadata": {},
   "outputs": [
    {
     "name": "stdout",
     "output_type": "stream",
     "text": [
      "[Row(avg_emp_length=6)]\n"
     ]
    }
   ],
   "source": [
    "print(avg_emp_length)"
   ]
  },
  {
   "cell_type": "code",
   "execution_count": 126,
   "id": "832d6e06",
   "metadata": {},
   "outputs": [],
   "source": [
    "avg_emp_duration = avg_emp_length[0][0]"
   ]
  },
  {
   "cell_type": "code",
   "execution_count": 127,
   "id": "694755cc",
   "metadata": {},
   "outputs": [
    {
     "name": "stdout",
     "output_type": "stream",
     "text": [
      "6\n"
     ]
    }
   ],
   "source": [
    "print(avg_emp_duration)"
   ]
  },
  {
   "cell_type": "code",
   "execution_count": 128,
   "id": "d8037498",
   "metadata": {},
   "outputs": [],
   "source": [
    "customers_emp_lenght_replaced = customers_emp_lenght_casted.na.fill(avg_emp_duration,subset=['emp_length'])"
   ]
  },
  {
   "cell_type": "code",
   "execution_count": 129,
   "id": "6a777678",
   "metadata": {},
   "outputs": [
    {
     "data": {
      "text/plain": [
       "0"
      ]
     },
     "execution_count": 129,
     "metadata": {},
     "output_type": "execute_result"
    }
   ],
   "source": [
    "customers_emp_lenght_replaced.filter(\"emp_length is null\").count()"
   ]
  },
  {
   "cell_type": "markdown",
   "id": "5e784692",
   "metadata": {},
   "source": [
    "#### 8 clean the address_state (it should be 2 characters only), replace all others with NA"
   ]
  },
  {
   "cell_type": "code",
   "execution_count": 130,
   "id": "82b191b1",
   "metadata": {},
   "outputs": [],
   "source": [
    "customers_emp_lenght_replaced.createOrReplaceTempView(\"customers\")"
   ]
  },
  {
   "cell_type": "code",
   "execution_count": 131,
   "id": "97c9cd78",
   "metadata": {},
   "outputs": [
    {
     "name": "stdout",
     "output_type": "stream",
     "text": [
      "+--------------------+\n",
      "|       address_state|\n",
      "+--------------------+\n",
      "|Helping Kenya's D...|\n",
      "|               223xx|\n",
      "|175 (total projec...|\n",
      "|                  AZ|\n",
      "|                  SC|\n",
      "|so Plan \"\"C\"\" is ...|\n",
      "|I am 56 yrs. old ...|\n",
      "|financially I mad...|\n",
      "|but no one will l...|\n",
      "|                  LA|\n",
      "|         etc.  First|\n",
      "|                  MN|\n",
      "|yet Capital One n...|\n",
      "|               499xx|\n",
      "|               850xx|\n",
      "|Advocate business...|\n",
      "|and MBA's are ove...|\n",
      "|Eliminating Credi...|\n",
      "|               662xx|\n",
      "|               951xx|\n",
      "+--------------------+\n",
      "only showing top 20 rows\n",
      "\n"
     ]
    }
   ],
   "source": [
    "spark.sql(\"select distinct(address_state) from customers\").show()"
   ]
  },
  {
   "cell_type": "code",
   "execution_count": 132,
   "id": "a37cbc22",
   "metadata": {},
   "outputs": [
    {
     "data": {
      "text/html": [
       "<table border='1'>\n",
       "<tr><th>count(address_state)</th></tr>\n",
       "<tr><td>254</td></tr>\n",
       "</table>\n"
      ],
      "text/plain": [
       "+--------------------+\n",
       "|count(address_state)|\n",
       "+--------------------+\n",
       "|                 254|\n",
       "+--------------------+"
      ]
     },
     "execution_count": 132,
     "metadata": {},
     "output_type": "execute_result"
    }
   ],
   "source": [
    "spark.sql(\"select count(address_state) from customers where length(address_state)>2\")"
   ]
  },
  {
   "cell_type": "code",
   "execution_count": 133,
   "id": "0dff51c8",
   "metadata": {},
   "outputs": [],
   "source": [
    "from pyspark.sql.functions import when, col, length"
   ]
  },
  {
   "cell_type": "code",
   "execution_count": 134,
   "id": "093a28ba",
   "metadata": {},
   "outputs": [],
   "source": [
    "customers_state_cleaned = customers_emp_lenght_replaced.withColumn(\n",
    "    \"address_state\",\n",
    "    when(length(col(\"address_state\"))>2,\"NA\").otherwise(col(\"address_state\"))\n",
    ")"
   ]
  },
  {
   "cell_type": "code",
   "execution_count": 135,
   "id": "ec1f314e",
   "metadata": {},
   "outputs": [
    {
     "data": {
      "text/html": [
       "<table border='1'>\n",
       "<tr><th>member_id</th><th>emp_title</th><th>emp_length</th><th>home_ownership</th><th>annual_income</th><th>address_state</th><th>address_zipcode</th><th>address_country</th><th>grade</th><th>sub_grade</th><th>verification_status</th><th>total_high_credit_limit</th><th>application_type</th><th>join_annual_income</th><th>verification_status_joint</th><th>ingestion_date</th></tr>\n",
       "<tr><td>e2b2c42b0a212a2e2...</td><td>personal banker</td><td>5</td><td>MORTGAGE</td><td>90000.0</td><td>MN</td><td>554xx</td><td>USA</td><td>C</td><td>C3</td><td>Not Verified</td><td>362093.0</td><td>Individual</td><td>null</td><td>null</td><td>2024-11-27 02:35:...</td></tr>\n",
       "<tr><td>662b630bb1dff9a65...</td><td>Software Engineer...</td><td>10</td><td>MORTGAGE</td><td>79458.68</td><td>PA</td><td>153xx</td><td>USA</td><td>B</td><td>B3</td><td>Not Verified</td><td>205945.0</td><td>Individual</td><td>null</td><td>null</td><td>2024-11-27 02:35:...</td></tr>\n",
       "<tr><td>7d38d72b728a56cc1...</td><td>SUPERVISOR</td><td>5</td><td>MORTGAGE</td><td>65500.0</td><td>TN</td><td>385xx</td><td>USA</td><td>B</td><td>B5</td><td>Source Verified</td><td>564171.0</td><td>Individual</td><td>null</td><td>null</td><td>2024-11-27 02:35:...</td></tr>\n",
       "<tr><td>c6bc0f71045c1ac94...</td><td>LPN</td><td>1</td><td>OWN</td><td>37500.0</td><td>AL</td><td>351xx</td><td>USA</td><td>C</td><td>C2</td><td>Verified</td><td>59116.0</td><td>Individual</td><td>null</td><td>null</td><td>2024-11-27 02:35:...</td></tr>\n",
       "<tr><td>5f9eec6bbd7092dac...</td><td>Staff nurse</td><td>8</td><td>RENT</td><td>130000.0</td><td>CA</td><td>950xx</td><td>USA</td><td>C</td><td>C1</td><td>Source Verified</td><td>103070.0</td><td>Individual</td><td>null</td><td>null</td><td>2024-11-27 02:35:...</td></tr>\n",
       "<tr><td>e94489557b4ff7c81...</td><td>Utilities Service</td><td>10</td><td>MORTGAGE</td><td>37960.0</td><td>IN</td><td>473xx</td><td>USA</td><td>C</td><td>C2</td><td>Not Verified</td><td>25386.0</td><td>Individual</td><td>null</td><td>null</td><td>2024-11-27 02:35:...</td></tr>\n",
       "<tr><td>5472a7ba8c894e407...</td><td>Manager</td><td>5</td><td>MORTGAGE</td><td>60000.0</td><td>DE</td><td>199xx</td><td>USA</td><td>C</td><td>C1</td><td>Verified</td><td>192581.0</td><td>Individual</td><td>null</td><td>null</td><td>2024-11-27 02:35:...</td></tr>\n",
       "<tr><td>a0fca4b34084e7075...</td><td>Operations Manager</td><td>3</td><td>MORTGAGE</td><td>125000.0</td><td>CA</td><td>956xx</td><td>USA</td><td>C</td><td>C5</td><td>Verified</td><td>560455.0</td><td>Individual</td><td>null</td><td>null</td><td>2024-11-27 02:35:...</td></tr>\n",
       "<tr><td>f6bef55b4a1ed18a6...</td><td>Operator</td><td>10</td><td>MORTGAGE</td><td>110000.0</td><td>NJ</td><td>080xx</td><td>USA</td><td>E</td><td>E5</td><td>Verified</td><td>450917.0</td><td>Individual</td><td>null</td><td>null</td><td>2024-11-27 02:35:...</td></tr>\n",
       "<tr><td>7f9f496d75559e8eb...</td><td>Admin Services/Se...</td><td>4</td><td>RENT</td><td>32000.0</td><td>NH</td><td>038xx</td><td>USA</td><td>C</td><td>C1</td><td>Source Verified</td><td>39366.0</td><td>Individual</td><td>null</td><td>null</td><td>2024-11-27 02:35:...</td></tr>\n",
       "<tr><td>cb7a0c3c6234671ba...</td><td>concrete finisher</td><td>5</td><td>MORTGAGE</td><td>95000.0</td><td>NJ</td><td>080xx</td><td>USA</td><td>C</td><td>C1</td><td>Source Verified</td><td>143472.0</td><td>Individual</td><td>null</td><td>null</td><td>2024-11-27 02:35:...</td></tr>\n",
       "<tr><td>6941792b494a9bd12...</td><td>TRUCK DRIVER</td><td>10</td><td>RENT</td><td>45000.0</td><td>TX</td><td>782xx</td><td>USA</td><td>B</td><td>B4</td><td>Not Verified</td><td>22000.0</td><td>Individual</td><td>null</td><td>null</td><td>2024-11-27 02:35:...</td></tr>\n",
       "<tr><td>d7829a4f373d8c854...</td><td>Auditor</td><td>10</td><td>OWN</td><td>25000.0</td><td>IL</td><td>601xx</td><td>USA</td><td>C</td><td>C3</td><td>Source Verified</td><td>26080.0</td><td>Individual</td><td>null</td><td>null</td><td>2024-11-27 02:35:...</td></tr>\n",
       "<tr><td>c77805e8c5c3ac252...</td><td>Sales</td><td>5</td><td>MORTGAGE</td><td>132000.0</td><td>IN</td><td>476xx</td><td>USA</td><td>C</td><td>C5</td><td>Source Verified</td><td>281824.0</td><td>Individual</td><td>null</td><td>null</td><td>2024-11-27 02:35:...</td></tr>\n",
       "<tr><td>afa7f77988bea1066...</td><td>Prep Manager</td><td>1</td><td>MORTGAGE</td><td>30000.0</td><td>FL</td><td>349xx</td><td>USA</td><td>D</td><td>D2</td><td>Source Verified</td><td>23273.0</td><td>Joint App</td><td>130000.0</td><td>Source Verified</td><td>2024-11-27 02:35:...</td></tr>\n",
       "<tr><td>2b11273121a4347be...</td><td>Billing Coordinator</td><td>10</td><td>MORTGAGE</td><td>55000.0</td><td>NE</td><td>681xx</td><td>USA</td><td>E</td><td>E4</td><td>Verified</td><td>106700.0</td><td>Individual</td><td>null</td><td>null</td><td>2024-11-27 02:35:...</td></tr>\n",
       "<tr><td>ac5136883c84ad7cb...</td><td>Systems Engineer</td><td>10</td><td>MORTGAGE</td><td>64000.0</td><td>MI</td><td>486xx</td><td>USA</td><td>C</td><td>C3</td><td>Not Verified</td><td>139499.0</td><td>Individual</td><td>null</td><td>null</td><td>2024-11-27 02:35:...</td></tr>\n",
       "<tr><td>c92123d375254b9c5...</td><td>null</td><td>6</td><td>MORTGAGE</td><td>104000.0</td><td>MI</td><td>481xx</td><td>USA</td><td>C</td><td>C2</td><td>Not Verified</td><td>370957.0</td><td>Individual</td><td>null</td><td>null</td><td>2024-11-27 02:35:...</td></tr>\n",
       "<tr><td>db51f491d701cdecd...</td><td>Project Manager</td><td>10</td><td>MORTGAGE</td><td>130000.0</td><td>MD</td><td>212xx</td><td>USA</td><td>D</td><td>D3</td><td>Source Verified</td><td>75934.0</td><td>Individual</td><td>null</td><td>null</td><td>2024-11-27 02:35:...</td></tr>\n",
       "<tr><td>f09f49060b273f1b5...</td><td>Development Super...</td><td>10</td><td>MORTGAGE</td><td>103000.0</td><td>MI</td><td>488xx</td><td>USA</td><td>A</td><td>A5</td><td>Not Verified</td><td>269078.0</td><td>Individual</td><td>null</td><td>null</td><td>2024-11-27 02:35:...</td></tr>\n",
       "</table>\n",
       "only showing top 20 rows\n"
      ],
      "text/plain": [
       "+--------------------+--------------------+----------+--------------+-------------+-------------+---------------+---------------+-----+---------+-------------------+-----------------------+----------------+------------------+-------------------------+--------------------+\n",
       "|           member_id|           emp_title|emp_length|home_ownership|annual_income|address_state|address_zipcode|address_country|grade|sub_grade|verification_status|total_high_credit_limit|application_type|join_annual_income|verification_status_joint|      ingestion_date|\n",
       "+--------------------+--------------------+----------+--------------+-------------+-------------+---------------+---------------+-----+---------+-------------------+-----------------------+----------------+------------------+-------------------------+--------------------+\n",
       "|b1f4ee9aa57867d4f...|Republic National...|         3|      MORTGAGE|      65000.0|           LA|          700xx|            USA|    B|       B5|    Source Verified|                   null|      Individual|              null|                     null|2024-11-27 02:35:...|\n",
       "|59218e25334205d5e...|BRIDGEWATER CONSU...|         1|          RENT|      70000.0|           KS|          662xx|            USA|    D|       D1|       Not Verified|                   null|      Individual|              null|                     null|2024-11-27 02:35:...|\n",
       "|8c4b936e4e0ad3edf...|Cognizant Technol...|        10|          RENT|      83500.0|           DE|          197xx|            USA|    A|       A4|       Not Verified|                   null|      Individual|              null|                     null|2024-11-27 02:35:...|\n",
       "|92b0c2988eef4e30c...|               LAUSD|        10|           OWN|      60000.0|           CA|          913xx|            USA|    D|       D3|           Verified|                   null|      Individual|              null|                     null|2024-11-27 02:35:...|\n",
       "|df6019d0cb1d4832d...|National Academy ...|         1|      MORTGAGE|     261000.0|           VA|          220xx|            USA|    A|       A4|    Source Verified|                   null|      Individual|              null|                     null|2024-11-27 02:35:...|\n",
       "|7fae2fdebc4a7c718...|Hadfield Agency Inc.|         3|      MORTGAGE|      52000.0|           AR|          720xx|            USA|    A|       A5|           Verified|                   null|      Individual|              null|                     null|2024-11-27 02:35:...|\n",
       "|3079eb5fe0051bfbe...|Nisene Technology...|         6|          RENT|      47000.0|           CA|          950xx|            USA|    B|       B3|       Not Verified|                   null|      Individual|              null|                     null|2024-11-27 02:35:...|\n",
       "|deb4c5d5f5cb9450e...|         Capital One|         7|          RENT|      73000.0|           NY|          111xx|            USA|    B|       B1|       Not Verified|                   null|      Individual|              null|                     null|2024-11-27 02:35:...|\n",
       "|44943db16084a4759...|             US Army|        10|          RENT|      85000.0|           NC|          283xx|            USA|    B|       B5|    Source Verified|                   null|      Individual|              null|                     null|2024-11-27 02:35:...|\n",
       "|b25c9f2d4e11ea317...|  bentzel mechanical|         9|      MORTGAGE|      60000.0|           FL|          337xx|            USA|    B|       B3|           Verified|                   null|      Individual|              null|                     null|2024-11-27 02:35:...|\n",
       "|2055d08a5fe20ef67...|         Altman Mgmt|         7|          RENT|      65600.0|           FL|          333xx|            USA|    B|       B3|       Not Verified|                   null|      Individual|              null|                     null|2024-11-27 02:35:...|\n",
       "|6e39574b7e971d8b9...|San Bernardino Co...|         7|      MORTGAGE|      61800.0|           CA|          922xx|            USA|    B|       B3|       Not Verified|                   null|      Individual|              null|                     null|2024-11-27 02:35:...|\n",
       "|a531576c4c75f2cf2...|                EMSC|         5|          RENT|      35000.0|           TX|          750xx|            USA|    C|       C2|    Source Verified|                   null|      Individual|              null|                     null|2024-11-27 02:35:...|\n",
       "|65500827ce45d687e...|     Refinery29, Inc|         1|          RENT|      50000.0|           NY|          113xx|            USA|    C|       C2|    Source Verified|                   null|      Individual|              null|                     null|2024-11-27 02:35:...|\n",
       "|837c5af74d9a0b0a4...|UBS Financial Ser...|         6|      MORTGAGE|     350000.0|           TX|          752xx|            USA|    B|       B5|           Verified|                   null|      Individual|              null|                     null|2024-11-27 02:35:...|\n",
       "|c920c73de920d1f2b...|    Ontonagon County|        10|      MORTGAGE|      45600.0|           MI|          499xx|            USA|    A|       A4|       Not Verified|                   null|      Individual|              null|                     null|2024-11-27 02:35:...|\n",
       "|34a12ca6102702227...|          W Magazine|         1|           OWN|      30000.0|           NY|          100xx|            USA|    A|       A4|    Source Verified|                   null|      Individual|              null|                     null|2024-11-27 02:35:...|\n",
       "|000b229e7c49e3604...|        TRC Staffing|         1|      MORTGAGE|      33092.8|           FL|          322xx|            USA|    A|       A5|    Source Verified|                   null|      Individual|              null|                     null|2024-11-27 02:35:...|\n",
       "|d328420afaa64ee18...|Portola Pharmaceu...|         8|      MORTGAGE|      52000.0|           CA|          941xx|            USA|    B|       B4|       Not Verified|                   null|      Individual|              null|                     null|2024-11-27 02:35:...|\n",
       "|6507ad4ec2a3d0c3f...|Cuyahoga Metropol...|        10|           OWN|      69000.0|           OH|          441xx|            USA|    A|       A4|       Not Verified|                   null|      Individual|              null|                     null|2024-11-27 02:35:...|\n",
       "+--------------------+--------------------+----------+--------------+-------------+-------------+---------------+---------------+-----+---------+-------------------+-----------------------+----------------+------------------+-------------------------+--------------------+\n",
       "only showing top 20 rows"
      ]
     },
     "execution_count": 135,
     "metadata": {},
     "output_type": "execute_result"
    }
   ],
   "source": [
    "customers_state_cleaned"
   ]
  },
  {
   "cell_type": "code",
   "execution_count": 136,
   "id": "e3dfc8a2",
   "metadata": {},
   "outputs": [
    {
     "data": {
      "text/html": [
       "<table border='1'>\n",
       "<tr><th>address_state</th></tr>\n",
       "<tr><td>AZ</td></tr>\n",
       "<tr><td>SC</td></tr>\n",
       "<tr><td>LA</td></tr>\n",
       "<tr><td>MN</td></tr>\n",
       "<tr><td>NJ</td></tr>\n",
       "<tr><td>DC</td></tr>\n",
       "<tr><td>OR</td></tr>\n",
       "<tr><td>NA</td></tr>\n",
       "<tr><td>VA</td></tr>\n",
       "<tr><td>null</td></tr>\n",
       "<tr><td>RI</td></tr>\n",
       "<tr><td>WY</td></tr>\n",
       "<tr><td>KY</td></tr>\n",
       "<tr><td>NH</td></tr>\n",
       "<tr><td>MI</td></tr>\n",
       "<tr><td>NV</td></tr>\n",
       "<tr><td>WI</td></tr>\n",
       "<tr><td>ID</td></tr>\n",
       "<tr><td>CA</td></tr>\n",
       "<tr><td>CT</td></tr>\n",
       "</table>\n",
       "only showing top 20 rows\n"
      ],
      "text/plain": [
       "+-------------+\n",
       "|address_state|\n",
       "+-------------+\n",
       "|           AZ|\n",
       "|           SC|\n",
       "|           LA|\n",
       "|           MN|\n",
       "|           NJ|\n",
       "|           DC|\n",
       "|           OR|\n",
       "|           NA|\n",
       "|           VA|\n",
       "|         null|\n",
       "|           RI|\n",
       "|           WY|\n",
       "|           KY|\n",
       "|           NH|\n",
       "|           MI|\n",
       "|           NV|\n",
       "|           WI|\n",
       "|           ID|\n",
       "|           CA|\n",
       "|           NE|\n",
       "+-------------+\n",
       "only showing top 20 rows"
      ]
     },
     "execution_count": 136,
     "metadata": {},
     "output_type": "execute_result"
    }
   ],
   "source": [
    "customers_state_cleaned.select(\"address_state\").distinct()"
   ]
  },
  {
   "cell_type": "code",
   "execution_count": 137,
   "id": "0fbc3313",
   "metadata": {},
   "outputs": [],
   "source": [
    "customers_state_cleaned.write \\\n",
    ".format(\"parquet\") \\\n",
    ".mode(\"overwrite\") \\\n",
    ".option(\"path\",\"/user/itv014325/lendingclubproject/cleaned/customers_parquet\") \\\n",
    ".save()"
   ]
  },
  {
   "cell_type": "code",
   "execution_count": null,
   "id": "280f5c47",
   "metadata": {},
   "outputs": [],
   "source": [
    "customers_state_cleaned.write \\\n",
    ".option(\"header\",True) \\\n",
    ".format(\"csv\") \\\n",
    ".mode(\"overwrite\") \\\n",
    ".option(\"path\",\"/user/itv014325/lendingclubproject/cleaned/customers_csv\") \\\n",
    ".save()"
   ]
  },
  {
   "cell_type": "code",
   "execution_count": null,
   "id": "3d86cf16",
   "metadata": {},
   "outputs": [],
   "source": []
  }
 ],
 "metadata": {
  "kernelspec": {
   "display_name": "Pyspark 3",
   "language": "python",
   "name": "pyspark3"
  },
  "language_info": {
   "codemirror_mode": {
    "name": "ipython",
    "version": 3
   },
   "file_extension": ".py",
   "mimetype": "text/x-python",
   "name": "python",
   "nbconvert_exporter": "python",
   "pygments_lexer": "ipython3",
   "version": "3.6.12"
  }
 },
 "nbformat": 4,
 "nbformat_minor": 5
}
