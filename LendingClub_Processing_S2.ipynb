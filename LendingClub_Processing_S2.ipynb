{
 "cells": [
  {
   "cell_type": "code",
   "execution_count": 40,
   "id": "691e49a0",
   "metadata": {},
   "outputs": [],
   "source": [
    "from pyspark.sql import SparkSession\n",
    "import getpass \n",
    "username=getpass.getuser()\n",
    "spark=SparkSession. \\\n",
    "    builder. \\\n",
    "    config('spark.ui.port','0'). \\\n",
    "    config(\"spark.sql.warehouse.dir\", \"/user/itv014325/warehouse\"). \\\n",
    "    config('spark.shuffle.useOldFetchProtocol', 'true'). \\\n",
    "    enableHiveSupport(). \\\n",
    "    master('yarn'). \\\n",
    "    getOrCreate()"
   ]
  },
  {
   "cell_type": "code",
   "execution_count": 39,
   "id": "006b98d3",
   "metadata": {},
   "outputs": [],
   "source": [
    "spark.stop()"
   ]
  },
  {
   "cell_type": "code",
   "execution_count": null,
   "id": "2feb8e57",
   "metadata": {},
   "outputs": [],
   "source": []
  },
  {
   "cell_type": "code",
   "execution_count": 6,
   "id": "66785db2",
   "metadata": {},
   "outputs": [],
   "source": [
    "customers_df = spark.read \\\n",
    ".format(\"parquet\") \\\n",
    ".load(\"/user/itv014325/lendingclubproject/raw/cleaned/customers_parquet\")"
   ]
  },
  {
   "cell_type": "code",
   "execution_count": 7,
   "id": "510d3760",
   "metadata": {},
   "outputs": [
    {
     "data": {
      "text/html": [
       "<table border='1'>\n",
       "<tr><th>member_id</th><th>emp_title</th><th>emp_length</th><th>home_ownership</th><th>annual_income</th><th>address_state</th><th>address_zipcode</th><th>address_country</th><th>grade</th><th>sub_grade</th><th>verification_status</th><th>tot_hi_cred_lim</th><th>application_type</th><th>join_annual_income</th><th>verification_status_joint</th><th>ingest_date</th></tr>\n",
       "<tr><td>379cbdb9be2022557...</td><td>customer support</td><td>4</td><td>RENT</td><td>28392.0</td><td>OH</td><td>450xx</td><td>USA</td><td>D</td><td>D1</td><td>Verified</td><td>41345.0</td><td>Individual</td><td>null</td><td>null</td><td>2024-12-04 03:35:...</td></tr>\n",
       "<tr><td>9659a5677b85a5564...</td><td>Rural Carrier</td><td>5</td><td>OWN</td><td>35000.0</td><td>LA</td><td>712xx</td><td>USA</td><td>B</td><td>B4</td><td>Not Verified</td><td>47584.0</td><td>Individual</td><td>null</td><td>null</td><td>2024-12-04 03:35:...</td></tr>\n",
       "<tr><td>bb4681f59233de40c...</td><td>HR Manager</td><td>7</td><td>RENT</td><td>60000.0</td><td>IL</td><td>607xx</td><td>USA</td><td>B</td><td>B3</td><td>Source Verified</td><td>68769.0</td><td>Individual</td><td>null</td><td>null</td><td>2024-12-04 03:35:...</td></tr>\n",
       "<tr><td>ff82f7c8755f11999...</td><td>Lead person</td><td>10</td><td>RENT</td><td>60000.0</td><td>WI</td><td>541xx</td><td>USA</td><td>F</td><td>F4</td><td>Source Verified</td><td>139300.0</td><td>Individual</td><td>null</td><td>null</td><td>2024-12-04 03:35:...</td></tr>\n",
       "<tr><td>0d80a343c31177303...</td><td>Mortgage Consulting</td><td>10</td><td>MORTGAGE</td><td>76000.0</td><td>VA</td><td>220xx</td><td>USA</td><td>B</td><td>B5</td><td>Source Verified</td><td>17700.0</td><td>Individual</td><td>null</td><td>null</td><td>2024-12-04 03:35:...</td></tr>\n",
       "<tr><td>e33b10dc63eede70b...</td><td>null</td><td>6</td><td>OWN</td><td>92000.0</td><td>CA</td><td>941xx</td><td>USA</td><td>C</td><td>C1</td><td>Source Verified</td><td>12300.0</td><td>Individual</td><td>null</td><td>null</td><td>2024-12-04 03:35:...</td></tr>\n",
       "<tr><td>1848c3c33541a6646...</td><td>Superintendent</td><td>1</td><td>MORTGAGE</td><td>36400.0</td><td>OK</td><td>740xx</td><td>USA</td><td>C</td><td>C1</td><td>Not Verified</td><td>130987.0</td><td>Individual</td><td>null</td><td>null</td><td>2024-12-04 03:35:...</td></tr>\n",
       "<tr><td>e9cb30eafb786b061...</td><td>Nurse</td><td>1</td><td>OWN</td><td>65000.0</td><td>WI</td><td>548xx</td><td>USA</td><td>C</td><td>C1</td><td>Verified</td><td>82205.0</td><td>Individual</td><td>null</td><td>null</td><td>2024-12-04 03:35:...</td></tr>\n",
       "<tr><td>a3fb2bc90f651e2b4...</td><td>Rn</td><td>1</td><td>RENT</td><td>91000.0</td><td>TX</td><td>774xx</td><td>USA</td><td>C</td><td>C1</td><td>Source Verified</td><td>101704.0</td><td>Individual</td><td>null</td><td>null</td><td>2024-12-04 03:35:...</td></tr>\n",
       "<tr><td>cf1661dd4fca5a948...</td><td>Sales - Markering</td><td>3</td><td>MORTGAGE</td><td>85000.0</td><td>TN</td><td>370xx</td><td>USA</td><td>B</td><td>B1</td><td>Not Verified</td><td>334854.0</td><td>Individual</td><td>null</td><td>null</td><td>2024-12-04 03:35:...</td></tr>\n",
       "<tr><td>8e0e9c4ba8cecc1fb...</td><td>Registered Nurse</td><td>2</td><td>RENT</td><td>150000.0</td><td>CA</td><td>945xx</td><td>USA</td><td>C</td><td>C1</td><td>Source Verified</td><td>108752.0</td><td>Individual</td><td>null</td><td>null</td><td>2024-12-04 03:35:...</td></tr>\n",
       "<tr><td>14e23df1ce2f2f723...</td><td>FLIGHT ATTENDANT</td><td>1</td><td>OWN</td><td>45000.0</td><td>CA</td><td>922xx</td><td>USA</td><td>C</td><td>C3</td><td>Source Verified</td><td>301308.0</td><td>Individual</td><td>null</td><td>null</td><td>2024-12-04 03:35:...</td></tr>\n",
       "<tr><td>d77eb4849d8cbc49a...</td><td>Branch Manager</td><td>10</td><td>OWN</td><td>75000.0</td><td>CA</td><td>913xx</td><td>USA</td><td>C</td><td>C1</td><td>Source Verified</td><td>444060.0</td><td>Individual</td><td>null</td><td>null</td><td>2024-12-04 03:35:...</td></tr>\n",
       "<tr><td>f2f5f39b7be4a4f4a...</td><td>district ops manager</td><td>10</td><td>RENT</td><td>108000.0</td><td>CA</td><td>926xx</td><td>USA</td><td>C</td><td>C3</td><td>Source Verified</td><td>352114.0</td><td>Individual</td><td>null</td><td>null</td><td>2024-12-04 03:35:...</td></tr>\n",
       "<tr><td>ee85225770873a6a0...</td><td>MLT</td><td>8</td><td>MORTGAGE</td><td>40000.0</td><td>OH</td><td>432xx</td><td>USA</td><td>C</td><td>C1</td><td>Not Verified</td><td>165634.0</td><td>Individual</td><td>null</td><td>null</td><td>2024-12-04 03:35:...</td></tr>\n",
       "<tr><td>93477634c34b6f80d...</td><td>District Sales Ma...</td><td>8</td><td>MORTGAGE</td><td>135000.0</td><td>NV</td><td>891xx</td><td>USA</td><td>B</td><td>B2</td><td>Source Verified</td><td>73460.0</td><td>Individual</td><td>null</td><td>null</td><td>2024-12-04 03:35:...</td></tr>\n",
       "<tr><td>4ed2e3b7c28c88c57...</td><td>Tracher</td><td>10</td><td>OWN</td><td>58000.0</td><td>TX</td><td>780xx</td><td>USA</td><td>E</td><td>E1</td><td>Source Verified</td><td>103162.0</td><td>Individual</td><td>null</td><td>null</td><td>2024-12-04 03:35:...</td></tr>\n",
       "<tr><td>48c465397f283f2f3...</td><td>Product Communica...</td><td>10</td><td>MORTGAGE</td><td>70000.0</td><td>TX</td><td>773xx</td><td>USA</td><td>B</td><td>B5</td><td>Verified</td><td>314600.0</td><td>Individual</td><td>null</td><td>null</td><td>2024-12-04 03:35:...</td></tr>\n",
       "<tr><td>7557e292a5a3da597...</td><td>Technician</td><td>2</td><td>MORTGAGE</td><td>58240.0</td><td>MA</td><td>027xx</td><td>USA</td><td>D</td><td>D3</td><td>Verified</td><td>281504.0</td><td>Individual</td><td>null</td><td>null</td><td>2024-12-04 03:35:...</td></tr>\n",
       "<tr><td>33046e31e79be9f1b...</td><td>Transportation Ma...</td><td>5</td><td>OWN</td><td>144092.45</td><td>TX</td><td>759xx</td><td>USA</td><td>A</td><td>A3</td><td>Source Verified</td><td>97294.0</td><td>Individual</td><td>null</td><td>null</td><td>2024-12-04 03:35:...</td></tr>\n",
       "</table>\n",
       "only showing top 20 rows\n"
      ],
      "text/plain": [
       "+--------------------+--------------------+----------+--------------+-------------+-------------+---------------+---------------+-----+---------+-------------------+---------------+----------------+------------------+-------------------------+--------------------+\n",
       "|           member_id|           emp_title|emp_length|home_ownership|annual_income|address_state|address_zipcode|address_country|grade|sub_grade|verification_status|tot_hi_cred_lim|application_type|join_annual_income|verification_status_joint|         ingest_date|\n",
       "+--------------------+--------------------+----------+--------------+-------------+-------------+---------------+---------------+-----+---------+-------------------+---------------+----------------+------------------+-------------------------+--------------------+\n",
       "|379cbdb9be2022557...|    customer support|         4|          RENT|      28392.0|           OH|          450xx|            USA|    D|       D1|           Verified|        41345.0|      Individual|              null|                     null|2024-12-04 03:35:...|\n",
       "|9659a5677b85a5564...|       Rural Carrier|         5|           OWN|      35000.0|           LA|          712xx|            USA|    B|       B4|       Not Verified|        47584.0|      Individual|              null|                     null|2024-12-04 03:35:...|\n",
       "|bb4681f59233de40c...|          HR Manager|         7|          RENT|      60000.0|           IL|          607xx|            USA|    B|       B3|    Source Verified|        68769.0|      Individual|              null|                     null|2024-12-04 03:35:...|\n",
       "|ff82f7c8755f11999...|         Lead person|        10|          RENT|      60000.0|           WI|          541xx|            USA|    F|       F4|    Source Verified|       139300.0|      Individual|              null|                     null|2024-12-04 03:35:...|\n",
       "|0d80a343c31177303...| Mortgage Consulting|        10|      MORTGAGE|      76000.0|           VA|          220xx|            USA|    B|       B5|    Source Verified|        17700.0|      Individual|              null|                     null|2024-12-04 03:35:...|\n",
       "|e33b10dc63eede70b...|                null|         6|           OWN|      92000.0|           CA|          941xx|            USA|    C|       C1|    Source Verified|        12300.0|      Individual|              null|                     null|2024-12-04 03:35:...|\n",
       "|1848c3c33541a6646...|      Superintendent|         1|      MORTGAGE|      36400.0|           OK|          740xx|            USA|    C|       C1|       Not Verified|       130987.0|      Individual|              null|                     null|2024-12-04 03:35:...|\n",
       "|e9cb30eafb786b061...|               Nurse|         1|           OWN|      65000.0|           WI|          548xx|            USA|    C|       C1|           Verified|        82205.0|      Individual|              null|                     null|2024-12-04 03:35:...|\n",
       "|a3fb2bc90f651e2b4...|                  Rn|         1|          RENT|      91000.0|           TX|          774xx|            USA|    C|       C1|    Source Verified|       101704.0|      Individual|              null|                     null|2024-12-04 03:35:...|\n",
       "|cf1661dd4fca5a948...|   Sales - Markering|         3|      MORTGAGE|      85000.0|           TN|          370xx|            USA|    B|       B1|       Not Verified|       334854.0|      Individual|              null|                     null|2024-12-04 03:35:...|\n",
       "|8e0e9c4ba8cecc1fb...|    Registered Nurse|         2|          RENT|     150000.0|           CA|          945xx|            USA|    C|       C1|    Source Verified|       108752.0|      Individual|              null|                     null|2024-12-04 03:35:...|\n",
       "|14e23df1ce2f2f723...|    FLIGHT ATTENDANT|         1|           OWN|      45000.0|           CA|          922xx|            USA|    C|       C3|    Source Verified|       301308.0|      Individual|              null|                     null|2024-12-04 03:35:...|\n",
       "|d77eb4849d8cbc49a...|      Branch Manager|        10|           OWN|      75000.0|           CA|          913xx|            USA|    C|       C1|    Source Verified|       444060.0|      Individual|              null|                     null|2024-12-04 03:35:...|\n",
       "|f2f5f39b7be4a4f4a...|district ops manager|        10|          RENT|     108000.0|           CA|          926xx|            USA|    C|       C3|    Source Verified|       352114.0|      Individual|              null|                     null|2024-12-04 03:35:...|\n",
       "|ee85225770873a6a0...|                 MLT|         8|      MORTGAGE|      40000.0|           OH|          432xx|            USA|    C|       C1|       Not Verified|       165634.0|      Individual|              null|                     null|2024-12-04 03:35:...|\n",
       "|93477634c34b6f80d...|District Sales Ma...|         8|      MORTGAGE|     135000.0|           NV|          891xx|            USA|    B|       B2|    Source Verified|        73460.0|      Individual|              null|                     null|2024-12-04 03:35:...|\n",
       "|4ed2e3b7c28c88c57...|             Tracher|        10|           OWN|      58000.0|           TX|          780xx|            USA|    E|       E1|    Source Verified|       103162.0|      Individual|              null|                     null|2024-12-04 03:35:...|\n",
       "|48c465397f283f2f3...|Product Communica...|        10|      MORTGAGE|      70000.0|           TX|          773xx|            USA|    B|       B5|           Verified|       314600.0|      Individual|              null|                     null|2024-12-04 03:35:...|\n",
       "|7557e292a5a3da597...|          Technician|         2|      MORTGAGE|      58240.0|           MA|          027xx|            USA|    D|       D3|           Verified|       281504.0|      Individual|              null|                     null|2024-12-04 03:35:...|\n",
       "|33046e31e79be9f1b...|Transportation Ma...|         5|           OWN|    144092.45|           TX|          759xx|            USA|    A|       A3|    Source Verified|        97294.0|      Individual|              null|                     null|2024-12-04 03:35:...|\n",
       "+--------------------+--------------------+----------+--------------+-------------+-------------+---------------+---------------+-----+---------+-------------------+---------------+----------------+------------------+-------------------------+--------------------+\n",
       "only showing top 20 rows"
      ]
     },
     "execution_count": 7,
     "metadata": {},
     "output_type": "execute_result"
    }
   ],
   "source": [
    "customers_df"
   ]
  },
  {
   "cell_type": "code",
   "execution_count": 8,
   "id": "18a0b8f4",
   "metadata": {},
   "outputs": [
    {
     "data": {
      "text/html": [
       "<table border='1'>\n",
       "<tr><th></th></tr>\n",
       "</table>\n"
      ],
      "text/plain": [
       "++\n",
       "||\n",
       "++\n",
       "++"
      ]
     },
     "execution_count": 8,
     "metadata": {},
     "output_type": "execute_result"
    }
   ],
   "source": [
    "spark.sql(\"create database itv014325_lending_club\")"
   ]
  },
  {
   "cell_type": "code",
   "execution_count": 20,
   "id": "d8d3835d",
   "metadata": {},
   "outputs": [
    {
     "data": {
      "text/html": [
       "<table border='1'>\n",
       "<tr><th></th></tr>\n",
       "</table>\n"
      ],
      "text/plain": [
       "++\n",
       "||\n",
       "++\n",
       "++"
      ]
     },
     "execution_count": 20,
     "metadata": {},
     "output_type": "execute_result"
    }
   ],
   "source": [
    "spark.sql(\"\"\"create external table itv014325_lending_club.customers(\n",
    "member_id string, emp_title string, emp_length int, \n",
    "home_ownership string, annual_income float, address_state string, address_zipcode string, address_country string, grade string, \n",
    "sub_grade string, verification_status string, total_high_credit_limit float, application_type string, join_annual_income float, \n",
    "verification_status_joint string, ingest_date timestamp)\n",
    "stored as parquet LOCATION  '/user/itv014325/lendingclubproject/raw/cleaned/customers_parquet'\n",
    "\"\"\")"
   ]
  },
  {
   "cell_type": "code",
   "execution_count": 21,
   "id": "6759ac0a",
   "metadata": {},
   "outputs": [
    {
     "data": {
      "text/html": [
       "<table border='1'>\n",
       "<tr><th>member_id</th><th>emp_title</th><th>emp_length</th><th>home_ownership</th><th>annual_income</th><th>address_state</th><th>address_zipcode</th><th>address_country</th><th>grade</th><th>sub_grade</th><th>verification_status</th><th>total_high_credit_limit</th><th>application_type</th><th>join_annual_income</th><th>verification_status_joint</th><th>ingest_date</th></tr>\n",
       "<tr><td>379cbdb9be2022557...</td><td>customer support</td><td>4</td><td>RENT</td><td>28392.0</td><td>OH</td><td>450xx</td><td>USA</td><td>D</td><td>D1</td><td>Verified</td><td>null</td><td>Individual</td><td>null</td><td>null</td><td>2024-12-04 03:35:...</td></tr>\n",
       "<tr><td>9659a5677b85a5564...</td><td>Rural Carrier</td><td>5</td><td>OWN</td><td>35000.0</td><td>LA</td><td>712xx</td><td>USA</td><td>B</td><td>B4</td><td>Not Verified</td><td>null</td><td>Individual</td><td>null</td><td>null</td><td>2024-12-04 03:35:...</td></tr>\n",
       "<tr><td>bb4681f59233de40c...</td><td>HR Manager</td><td>7</td><td>RENT</td><td>60000.0</td><td>IL</td><td>607xx</td><td>USA</td><td>B</td><td>B3</td><td>Source Verified</td><td>null</td><td>Individual</td><td>null</td><td>null</td><td>2024-12-04 03:35:...</td></tr>\n",
       "<tr><td>ff82f7c8755f11999...</td><td>Lead person</td><td>10</td><td>RENT</td><td>60000.0</td><td>WI</td><td>541xx</td><td>USA</td><td>F</td><td>F4</td><td>Source Verified</td><td>null</td><td>Individual</td><td>null</td><td>null</td><td>2024-12-04 03:35:...</td></tr>\n",
       "<tr><td>0d80a343c31177303...</td><td>Mortgage Consulting</td><td>10</td><td>MORTGAGE</td><td>76000.0</td><td>VA</td><td>220xx</td><td>USA</td><td>B</td><td>B5</td><td>Source Verified</td><td>null</td><td>Individual</td><td>null</td><td>null</td><td>2024-12-04 03:35:...</td></tr>\n",
       "<tr><td>e33b10dc63eede70b...</td><td>null</td><td>6</td><td>OWN</td><td>92000.0</td><td>CA</td><td>941xx</td><td>USA</td><td>C</td><td>C1</td><td>Source Verified</td><td>null</td><td>Individual</td><td>null</td><td>null</td><td>2024-12-04 03:35:...</td></tr>\n",
       "<tr><td>1848c3c33541a6646...</td><td>Superintendent</td><td>1</td><td>MORTGAGE</td><td>36400.0</td><td>OK</td><td>740xx</td><td>USA</td><td>C</td><td>C1</td><td>Not Verified</td><td>null</td><td>Individual</td><td>null</td><td>null</td><td>2024-12-04 03:35:...</td></tr>\n",
       "<tr><td>e9cb30eafb786b061...</td><td>Nurse</td><td>1</td><td>OWN</td><td>65000.0</td><td>WI</td><td>548xx</td><td>USA</td><td>C</td><td>C1</td><td>Verified</td><td>null</td><td>Individual</td><td>null</td><td>null</td><td>2024-12-04 03:35:...</td></tr>\n",
       "<tr><td>a3fb2bc90f651e2b4...</td><td>Rn</td><td>1</td><td>RENT</td><td>91000.0</td><td>TX</td><td>774xx</td><td>USA</td><td>C</td><td>C1</td><td>Source Verified</td><td>null</td><td>Individual</td><td>null</td><td>null</td><td>2024-12-04 03:35:...</td></tr>\n",
       "<tr><td>cf1661dd4fca5a948...</td><td>Sales - Markering</td><td>3</td><td>MORTGAGE</td><td>85000.0</td><td>TN</td><td>370xx</td><td>USA</td><td>B</td><td>B1</td><td>Not Verified</td><td>null</td><td>Individual</td><td>null</td><td>null</td><td>2024-12-04 03:35:...</td></tr>\n",
       "<tr><td>8e0e9c4ba8cecc1fb...</td><td>Registered Nurse</td><td>2</td><td>RENT</td><td>150000.0</td><td>CA</td><td>945xx</td><td>USA</td><td>C</td><td>C1</td><td>Source Verified</td><td>null</td><td>Individual</td><td>null</td><td>null</td><td>2024-12-04 03:35:...</td></tr>\n",
       "<tr><td>14e23df1ce2f2f723...</td><td>FLIGHT ATTENDANT</td><td>1</td><td>OWN</td><td>45000.0</td><td>CA</td><td>922xx</td><td>USA</td><td>C</td><td>C3</td><td>Source Verified</td><td>null</td><td>Individual</td><td>null</td><td>null</td><td>2024-12-04 03:35:...</td></tr>\n",
       "<tr><td>d77eb4849d8cbc49a...</td><td>Branch Manager</td><td>10</td><td>OWN</td><td>75000.0</td><td>CA</td><td>913xx</td><td>USA</td><td>C</td><td>C1</td><td>Source Verified</td><td>null</td><td>Individual</td><td>null</td><td>null</td><td>2024-12-04 03:35:...</td></tr>\n",
       "<tr><td>f2f5f39b7be4a4f4a...</td><td>district ops manager</td><td>10</td><td>RENT</td><td>108000.0</td><td>CA</td><td>926xx</td><td>USA</td><td>C</td><td>C3</td><td>Source Verified</td><td>null</td><td>Individual</td><td>null</td><td>null</td><td>2024-12-04 03:35:...</td></tr>\n",
       "<tr><td>ee85225770873a6a0...</td><td>MLT</td><td>8</td><td>MORTGAGE</td><td>40000.0</td><td>OH</td><td>432xx</td><td>USA</td><td>C</td><td>C1</td><td>Not Verified</td><td>null</td><td>Individual</td><td>null</td><td>null</td><td>2024-12-04 03:35:...</td></tr>\n",
       "<tr><td>93477634c34b6f80d...</td><td>District Sales Ma...</td><td>8</td><td>MORTGAGE</td><td>135000.0</td><td>NV</td><td>891xx</td><td>USA</td><td>B</td><td>B2</td><td>Source Verified</td><td>null</td><td>Individual</td><td>null</td><td>null</td><td>2024-12-04 03:35:...</td></tr>\n",
       "<tr><td>4ed2e3b7c28c88c57...</td><td>Tracher</td><td>10</td><td>OWN</td><td>58000.0</td><td>TX</td><td>780xx</td><td>USA</td><td>E</td><td>E1</td><td>Source Verified</td><td>null</td><td>Individual</td><td>null</td><td>null</td><td>2024-12-04 03:35:...</td></tr>\n",
       "<tr><td>48c465397f283f2f3...</td><td>Product Communica...</td><td>10</td><td>MORTGAGE</td><td>70000.0</td><td>TX</td><td>773xx</td><td>USA</td><td>B</td><td>B5</td><td>Verified</td><td>null</td><td>Individual</td><td>null</td><td>null</td><td>2024-12-04 03:35:...</td></tr>\n",
       "<tr><td>7557e292a5a3da597...</td><td>Technician</td><td>2</td><td>MORTGAGE</td><td>58240.0</td><td>MA</td><td>027xx</td><td>USA</td><td>D</td><td>D3</td><td>Verified</td><td>null</td><td>Individual</td><td>null</td><td>null</td><td>2024-12-04 03:35:...</td></tr>\n",
       "<tr><td>33046e31e79be9f1b...</td><td>Transportation Ma...</td><td>5</td><td>OWN</td><td>144092.45</td><td>TX</td><td>759xx</td><td>USA</td><td>A</td><td>A3</td><td>Source Verified</td><td>null</td><td>Individual</td><td>null</td><td>null</td><td>2024-12-04 03:35:...</td></tr>\n",
       "</table>\n",
       "only showing top 20 rows\n"
      ],
      "text/plain": [
       "+--------------------+--------------------+----------+--------------+-------------+-------------+---------------+---------------+-----+---------+-------------------+-----------------------+----------------+------------------+-------------------------+--------------------+\n",
       "|           member_id|           emp_title|emp_length|home_ownership|annual_income|address_state|address_zipcode|address_country|grade|sub_grade|verification_status|total_high_credit_limit|application_type|join_annual_income|verification_status_joint|         ingest_date|\n",
       "+--------------------+--------------------+----------+--------------+-------------+-------------+---------------+---------------+-----+---------+-------------------+-----------------------+----------------+------------------+-------------------------+--------------------+\n",
       "|379cbdb9be2022557...|    customer support|         4|          RENT|      28392.0|           OH|          450xx|            USA|    D|       D1|           Verified|                   null|      Individual|              null|                     null|2024-12-04 03:35:...|\n",
       "|9659a5677b85a5564...|       Rural Carrier|         5|           OWN|      35000.0|           LA|          712xx|            USA|    B|       B4|       Not Verified|                   null|      Individual|              null|                     null|2024-12-04 03:35:...|\n",
       "|bb4681f59233de40c...|          HR Manager|         7|          RENT|      60000.0|           IL|          607xx|            USA|    B|       B3|    Source Verified|                   null|      Individual|              null|                     null|2024-12-04 03:35:...|\n",
       "|ff82f7c8755f11999...|         Lead person|        10|          RENT|      60000.0|           WI|          541xx|            USA|    F|       F4|    Source Verified|                   null|      Individual|              null|                     null|2024-12-04 03:35:...|\n",
       "|0d80a343c31177303...| Mortgage Consulting|        10|      MORTGAGE|      76000.0|           VA|          220xx|            USA|    B|       B5|    Source Verified|                   null|      Individual|              null|                     null|2024-12-04 03:35:...|\n",
       "|e33b10dc63eede70b...|                null|         6|           OWN|      92000.0|           CA|          941xx|            USA|    C|       C1|    Source Verified|                   null|      Individual|              null|                     null|2024-12-04 03:35:...|\n",
       "|1848c3c33541a6646...|      Superintendent|         1|      MORTGAGE|      36400.0|           OK|          740xx|            USA|    C|       C1|       Not Verified|                   null|      Individual|              null|                     null|2024-12-04 03:35:...|\n",
       "|e9cb30eafb786b061...|               Nurse|         1|           OWN|      65000.0|           WI|          548xx|            USA|    C|       C1|           Verified|                   null|      Individual|              null|                     null|2024-12-04 03:35:...|\n",
       "|a3fb2bc90f651e2b4...|                  Rn|         1|          RENT|      91000.0|           TX|          774xx|            USA|    C|       C1|    Source Verified|                   null|      Individual|              null|                     null|2024-12-04 03:35:...|\n",
       "|cf1661dd4fca5a948...|   Sales - Markering|         3|      MORTGAGE|      85000.0|           TN|          370xx|            USA|    B|       B1|       Not Verified|                   null|      Individual|              null|                     null|2024-12-04 03:35:...|\n",
       "|8e0e9c4ba8cecc1fb...|    Registered Nurse|         2|          RENT|     150000.0|           CA|          945xx|            USA|    C|       C1|    Source Verified|                   null|      Individual|              null|                     null|2024-12-04 03:35:...|\n",
       "|14e23df1ce2f2f723...|    FLIGHT ATTENDANT|         1|           OWN|      45000.0|           CA|          922xx|            USA|    C|       C3|    Source Verified|                   null|      Individual|              null|                     null|2024-12-04 03:35:...|\n",
       "|d77eb4849d8cbc49a...|      Branch Manager|        10|           OWN|      75000.0|           CA|          913xx|            USA|    C|       C1|    Source Verified|                   null|      Individual|              null|                     null|2024-12-04 03:35:...|\n",
       "|f2f5f39b7be4a4f4a...|district ops manager|        10|          RENT|     108000.0|           CA|          926xx|            USA|    C|       C3|    Source Verified|                   null|      Individual|              null|                     null|2024-12-04 03:35:...|\n",
       "|ee85225770873a6a0...|                 MLT|         8|      MORTGAGE|      40000.0|           OH|          432xx|            USA|    C|       C1|       Not Verified|                   null|      Individual|              null|                     null|2024-12-04 03:35:...|\n",
       "|93477634c34b6f80d...|District Sales Ma...|         8|      MORTGAGE|     135000.0|           NV|          891xx|            USA|    B|       B2|    Source Verified|                   null|      Individual|              null|                     null|2024-12-04 03:35:...|\n",
       "|4ed2e3b7c28c88c57...|             Tracher|        10|           OWN|      58000.0|           TX|          780xx|            USA|    E|       E1|    Source Verified|                   null|      Individual|              null|                     null|2024-12-04 03:35:...|\n",
       "|48c465397f283f2f3...|Product Communica...|        10|      MORTGAGE|      70000.0|           TX|          773xx|            USA|    B|       B5|           Verified|                   null|      Individual|              null|                     null|2024-12-04 03:35:...|\n",
       "|7557e292a5a3da597...|          Technician|         2|      MORTGAGE|      58240.0|           MA|          027xx|            USA|    D|       D3|           Verified|                   null|      Individual|              null|                     null|2024-12-04 03:35:...|\n",
       "|33046e31e79be9f1b...|Transportation Ma...|         5|           OWN|    144092.45|           TX|          759xx|            USA|    A|       A3|    Source Verified|                   null|      Individual|              null|                     null|2024-12-04 03:35:...|\n",
       "+--------------------+--------------------+----------+--------------+-------------+-------------+---------------+---------------+-----+---------+-------------------+-----------------------+----------------+------------------+-------------------------+--------------------+\n",
       "only showing top 20 rows"
      ]
     },
     "execution_count": 21,
     "metadata": {},
     "output_type": "execute_result"
    }
   ],
   "source": [
    "spark.sql(\"select * from itv014325_lending_club.customers\")"
   ]
  },
  {
   "cell_type": "code",
   "execution_count": 24,
   "id": "1bbf764b",
   "metadata": {},
   "outputs": [
    {
     "data": {
      "text/html": [
       "<table border='1'>\n",
       "<tr><th></th></tr>\n",
       "</table>\n"
      ],
      "text/plain": [
       "++\n",
       "||\n",
       "++\n",
       "++"
      ]
     },
     "execution_count": 24,
     "metadata": {},
     "output_type": "execute_result"
    }
   ],
   "source": [
    "spark.sql(\"\"\"\n",
    "create external table itv014325_lending_club.loans(\n",
    "loan_id string, member_id string, loan_amount float, funded_amount float,\n",
    "loan_term_years integer, interest_rate float, monthly_installment float, issue_date string,\n",
    "loan_status string, loan_purpose string, loan_title string, ingest_date timestamp)\n",
    "stored as parquet\n",
    "LOCATION '/user/itv014325/lendingclubproject/raw/cleaned/loans_parquet'\n",
    "\"\"\")"
   ]
  },
  {
   "cell_type": "code",
   "execution_count": 25,
   "id": "3c8ea42f",
   "metadata": {},
   "outputs": [
    {
     "data": {
      "text/html": [
       "<table border='1'>\n",
       "<tr><th>loan_id</th><th>member_id</th><th>loan_amount</th><th>funded_amount</th><th>loan_term_years</th><th>interest_rate</th><th>monthly_installment</th><th>issue_date</th><th>loan_status</th><th>loan_purpose</th><th>loan_title</th><th>ingest_date</th></tr>\n",
       "<tr><td>145499677</td><td>a703357afc7be3fe3...</td><td>10000.0</td><td>10000.0</td><td>3</td><td>8.19</td><td>314.25</td><td>Dec-2018</td><td>Fully Paid</td><td>debt_consolidation</td><td>Debt consolidation</td><td>2024-11-28 06:49:...</td></tr>\n",
       "<tr><td>144538467</td><td>a0c637c3df6764663...</td><td>5000.0</td><td>5000.0</td><td>3</td><td>15.02</td><td>173.38</td><td>Dec-2018</td><td>Current</td><td>other</td><td>Other</td><td>2024-11-28 06:49:...</td></tr>\n",
       "<tr><td>145515405</td><td>63571114d3a96e5bc...</td><td>7500.0</td><td>7500.0</td><td>3</td><td>10.33</td><td>243.17</td><td>Dec-2018</td><td>Current</td><td>debt_consolidation</td><td>Debt consolidation</td><td>2024-11-28 06:49:...</td></tr>\n",
       "<tr><td>145207340</td><td>4db14234c3f2f87c1...</td><td>20400.0</td><td>20400.0</td><td>5</td><td>16.14</td><td>497.61</td><td>Dec-2018</td><td>Current</td><td>home_improvement</td><td>Home improvement</td><td>2024-11-28 06:49:...</td></tr>\n",
       "<tr><td>145467050</td><td>88a6f97ff3afc51b6...</td><td>12000.0</td><td>12000.0</td><td>3</td><td>7.02</td><td>370.64</td><td>Dec-2018</td><td>Current</td><td>credit_card</td><td>Credit card refin...</td><td>2024-11-28 06:49:...</td></tr>\n",
       "<tr><td>145363193</td><td>445bc4e5179cc6d14...</td><td>16000.0</td><td>16000.0</td><td>3</td><td>16.91</td><td>569.73</td><td>Dec-2018</td><td>Current</td><td>major_purchase</td><td>Major purchase</td><td>2024-11-28 06:49:...</td></tr>\n",
       "<tr><td>145342199</td><td>91211148397352efb...</td><td>7000.0</td><td>7000.0</td><td>3</td><td>8.19</td><td>219.97</td><td>Dec-2018</td><td>Current</td><td>home_improvement</td><td>Home improvement</td><td>2024-11-28 06:49:...</td></tr>\n",
       "<tr><td>144832620</td><td>63308940f264261fa...</td><td>6050.0</td><td>6050.0</td><td>3</td><td>10.33</td><td>196.16</td><td>Dec-2018</td><td>Current</td><td>credit_card</td><td>Credit card refin...</td><td>2024-11-28 06:49:...</td></tr>\n",
       "<tr><td>145282984</td><td>0276426889116a959...</td><td>12000.0</td><td>12000.0</td><td>3</td><td>7.02</td><td>370.64</td><td>Dec-2018</td><td>Current</td><td>credit_card</td><td>Credit card refin...</td><td>2024-11-28 06:49:...</td></tr>\n",
       "<tr><td>145403819</td><td>c4bd773cc9911b333...</td><td>15000.0</td><td>15000.0</td><td>3</td><td>7.02</td><td>463.3</td><td>Dec-2018</td><td>Current</td><td>debt_consolidation</td><td>Debt consolidation</td><td>2024-11-28 06:49:...</td></tr>\n",
       "<tr><td>145056086</td><td>38047664291fc7ad3...</td><td>35000.0</td><td>35000.0</td><td>3</td><td>8.19</td><td>1099.85</td><td>Dec-2018</td><td>Fully Paid</td><td>debt_consolidation</td><td>Debt consolidation</td><td>2024-11-28 06:49:...</td></tr>\n",
       "<tr><td>145223222</td><td>f49b65c34ef0a637e...</td><td>30000.0</td><td>30000.0</td><td>5</td><td>10.33</td><td>642.3</td><td>Dec-2018</td><td>Current</td><td>credit_card</td><td>Credit card refin...</td><td>2024-11-28 06:49:...</td></tr>\n",
       "<tr><td>145428678</td><td>3ca0bc576e09570cf...</td><td>40000.0</td><td>40000.0</td><td>3</td><td>11.8</td><td>1324.76</td><td>Dec-2018</td><td>Current</td><td>home_improvement</td><td>Home improvement</td><td>2024-11-28 06:49:...</td></tr>\n",
       "<tr><td>144579151</td><td>d756ee1c07570a4ad...</td><td>11200.0</td><td>11200.0</td><td>5</td><td>22.35</td><td>311.57</td><td>Dec-2018</td><td>Current</td><td>debt_consolidation</td><td>Debt consolidation</td><td>2024-11-28 06:49:...</td></tr>\n",
       "<tr><td>145435966</td><td>442d3ebc4cb9a799f...</td><td>7250.0</td><td>7250.0</td><td>3</td><td>15.02</td><td>251.4</td><td>Dec-2018</td><td>Current</td><td>car</td><td>Car financing</td><td>2024-11-28 06:49:...</td></tr>\n",
       "<tr><td>145374331</td><td>c182e194644800aef...</td><td>32000.0</td><td>32000.0</td><td>5</td><td>16.91</td><td>793.74</td><td>Dec-2018</td><td>Current</td><td>debt_consolidation</td><td>Debt consolidation</td><td>2024-11-28 06:49:...</td></tr>\n",
       "<tr><td>145490149</td><td>c543d14cac228c8e7...</td><td>5000.0</td><td>5000.0</td><td>3</td><td>16.91</td><td>178.04</td><td>Dec-2018</td><td>Current</td><td>credit_card</td><td>Credit card refin...</td><td>2024-11-28 06:49:...</td></tr>\n",
       "<tr><td>145183897</td><td>f6b7aa8a8b6ef288f...</td><td>21600.0</td><td>21600.0</td><td>5</td><td>10.33</td><td>462.46</td><td>Dec-2018</td><td>Current</td><td>other</td><td>Other</td><td>2024-11-28 06:49:...</td></tr>\n",
       "<tr><td>145120592</td><td>1e4f6fd93f8ab62d1...</td><td>15000.0</td><td>15000.0</td><td>3</td><td>18.94</td><td>549.39</td><td>Dec-2018</td><td>Current</td><td>major_purchase</td><td>Major purchase</td><td>2024-11-28 06:49:...</td></tr>\n",
       "<tr><td>145226708</td><td>13228bb589e9767d1...</td><td>40000.0</td><td>40000.0</td><td>5</td><td>10.72</td><td>864.13</td><td>Dec-2018</td><td>Current</td><td>debt_consolidation</td><td>Debt consolidation</td><td>2024-11-28 06:49:...</td></tr>\n",
       "</table>\n",
       "only showing top 20 rows\n"
      ],
      "text/plain": [
       "+---------+--------------------+-----------+-------------+---------------+-------------+-------------------+----------+-----------+------------------+--------------------+--------------------+\n",
       "|  loan_id|           member_id|loan_amount|funded_amount|loan_term_years|interest_rate|monthly_installment|issue_date|loan_status|      loan_purpose|          loan_title|         ingest_date|\n",
       "+---------+--------------------+-----------+-------------+---------------+-------------+-------------------+----------+-----------+------------------+--------------------+--------------------+\n",
       "|145499677|a703357afc7be3fe3...|    10000.0|      10000.0|              3|         8.19|             314.25|  Dec-2018| Fully Paid|debt_consolidation|  Debt consolidation|2024-11-28 06:49:...|\n",
       "|144538467|a0c637c3df6764663...|     5000.0|       5000.0|              3|        15.02|             173.38|  Dec-2018|    Current|             other|               Other|2024-11-28 06:49:...|\n",
       "|145515405|63571114d3a96e5bc...|     7500.0|       7500.0|              3|        10.33|             243.17|  Dec-2018|    Current|debt_consolidation|  Debt consolidation|2024-11-28 06:49:...|\n",
       "|145207340|4db14234c3f2f87c1...|    20400.0|      20400.0|              5|        16.14|             497.61|  Dec-2018|    Current|  home_improvement|    Home improvement|2024-11-28 06:49:...|\n",
       "|145467050|88a6f97ff3afc51b6...|    12000.0|      12000.0|              3|         7.02|             370.64|  Dec-2018|    Current|       credit_card|Credit card refin...|2024-11-28 06:49:...|\n",
       "|145363193|445bc4e5179cc6d14...|    16000.0|      16000.0|              3|        16.91|             569.73|  Dec-2018|    Current|    major_purchase|      Major purchase|2024-11-28 06:49:...|\n",
       "|145342199|91211148397352efb...|     7000.0|       7000.0|              3|         8.19|             219.97|  Dec-2018|    Current|  home_improvement|    Home improvement|2024-11-28 06:49:...|\n",
       "|144832620|63308940f264261fa...|     6050.0|       6050.0|              3|        10.33|             196.16|  Dec-2018|    Current|       credit_card|Credit card refin...|2024-11-28 06:49:...|\n",
       "|145282984|0276426889116a959...|    12000.0|      12000.0|              3|         7.02|             370.64|  Dec-2018|    Current|       credit_card|Credit card refin...|2024-11-28 06:49:...|\n",
       "|145403819|c4bd773cc9911b333...|    15000.0|      15000.0|              3|         7.02|              463.3|  Dec-2018|    Current|debt_consolidation|  Debt consolidation|2024-11-28 06:49:...|\n",
       "|145056086|38047664291fc7ad3...|    35000.0|      35000.0|              3|         8.19|            1099.85|  Dec-2018| Fully Paid|debt_consolidation|  Debt consolidation|2024-11-28 06:49:...|\n",
       "|145223222|f49b65c34ef0a637e...|    30000.0|      30000.0|              5|        10.33|              642.3|  Dec-2018|    Current|       credit_card|Credit card refin...|2024-11-28 06:49:...|\n",
       "|145428678|3ca0bc576e09570cf...|    40000.0|      40000.0|              3|         11.8|            1324.76|  Dec-2018|    Current|  home_improvement|    Home improvement|2024-11-28 06:49:...|\n",
       "|144579151|d756ee1c07570a4ad...|    11200.0|      11200.0|              5|        22.35|             311.57|  Dec-2018|    Current|debt_consolidation|  Debt consolidation|2024-11-28 06:49:...|\n",
       "|145435966|442d3ebc4cb9a799f...|     7250.0|       7250.0|              3|        15.02|              251.4|  Dec-2018|    Current|               car|       Car financing|2024-11-28 06:49:...|\n",
       "|145374331|c182e194644800aef...|    32000.0|      32000.0|              5|        16.91|             793.74|  Dec-2018|    Current|debt_consolidation|  Debt consolidation|2024-11-28 06:49:...|\n",
       "|145490149|c543d14cac228c8e7...|     5000.0|       5000.0|              3|        16.91|             178.04|  Dec-2018|    Current|       credit_card|Credit card refin...|2024-11-28 06:49:...|\n",
       "|145183897|f6b7aa8a8b6ef288f...|    21600.0|      21600.0|              5|        10.33|             462.46|  Dec-2018|    Current|             other|               Other|2024-11-28 06:49:...|\n",
       "|145120592|1e4f6fd93f8ab62d1...|    15000.0|      15000.0|              3|        18.94|             549.39|  Dec-2018|    Current|    major_purchase|      Major purchase|2024-11-28 06:49:...|\n",
       "|145226708|13228bb589e9767d1...|    40000.0|      40000.0|              5|        10.72|             864.13|  Dec-2018|    Current|debt_consolidation|  Debt consolidation|2024-11-28 06:49:...|\n",
       "+---------+--------------------+-----------+-------------+---------------+-------------+-------------------+----------+-----------+------------------+--------------------+--------------------+\n",
       "only showing top 20 rows"
      ]
     },
     "execution_count": 25,
     "metadata": {},
     "output_type": "execute_result"
    }
   ],
   "source": [
    "spark.sql(\"select * from itv014325_lending_club.loans\")"
   ]
  },
  {
   "cell_type": "code",
   "execution_count": 30,
   "id": "8dd0046f",
   "metadata": {},
   "outputs": [
    {
     "data": {
      "text/html": [
       "<table border='1'>\n",
       "<tr><th></th></tr>\n",
       "</table>\n"
      ],
      "text/plain": [
       "++\n",
       "||\n",
       "++\n",
       "++"
      ]
     },
     "execution_count": 30,
     "metadata": {},
     "output_type": "execute_result"
    }
   ],
   "source": [
    "spark.sql(\"\"\"CREATE EXTERNAL TABLE itv014325_lending_club.loans_repayments(loan_id string, total_principal_received float,\n",
    "total_interest_received float,total_late_fee_received float,total_payment_received float,last_payment_amount float,\n",
    "last_payment_date string,next_payment_date string,ingest_date timestamp)\n",
    "stored as parquet LOCATION '/user/itv014325/lendingclubproject/raw/cleaned/loans_repayments_parquet'\n",
    "\"\"\")"
   ]
  },
  {
   "cell_type": "code",
   "execution_count": 31,
   "id": "b8564da4",
   "metadata": {},
   "outputs": [
    {
     "data": {
      "text/html": [
       "<table border='1'>\n",
       "<tr><th>loan_id</th><th>total_principal_received</th><th>total_interest_received</th><th>total_late_fee_received</th><th>total_payment_received</th><th>last_payment_amount</th><th>last_payment_date</th><th>next_payment_date</th><th>ingest_date</th></tr>\n",
       "<tr><td>56633077</td><td>3000.0</td><td>376.21</td><td>0.0</td><td>3376.206</td><td>93.74</td><td>Aug-2018</td><td>null</td><td>2024-11-28 07:24:...</td></tr>\n",
       "<tr><td>55927518</td><td>15600.0</td><td>1956.32</td><td>0.0</td><td>17556.32</td><td>487.9</td><td>Aug-2018</td><td>null</td><td>2024-11-28 07:24:...</td></tr>\n",
       "<tr><td>56473345</td><td>20000.0</td><td>2408.94</td><td>0.0</td><td>22408.94</td><td>9677.72</td><td>May-2017</td><td>null</td><td>2024-11-28 07:24:...</td></tr>\n",
       "<tr><td>56463188</td><td>11200.0</td><td>5231.01</td><td>0.0</td><td>16431.014</td><td>7475.86</td><td>Feb-2018</td><td>null</td><td>2024-11-28 07:24:...</td></tr>\n",
       "<tr><td>56473316</td><td>5215.47</td><td>6513.51</td><td>0.0</td><td>13237.07</td><td>432.77</td><td>Nov-2017</td><td>null</td><td>2024-11-28 07:24:...</td></tr>\n",
       "<tr><td>56663266</td><td>6477.26</td><td>4221.77</td><td>0.0</td><td>12544.05</td><td>458.45</td><td>Jun-2017</td><td>null</td><td>2024-11-28 07:24:...</td></tr>\n",
       "<tr><td>56483027</td><td>10000.0</td><td>2062.03</td><td>0.0</td><td>12062.026</td><td>335.38</td><td>Aug-2018</td><td>null</td><td>2024-11-28 07:24:...</td></tr>\n",
       "<tr><td>56613385</td><td>13932.74</td><td>11678.23</td><td>0.0</td><td>25610.97</td><td>609.46</td><td>Feb-2019</td><td>Apr-2019</td><td>2024-11-28 07:24:...</td></tr>\n",
       "<tr><td>56643620</td><td>16000.0</td><td>1031.67</td><td>0.0</td><td>17031.674</td><td>8363.28</td><td>Mar-2017</td><td>null</td><td>2024-11-28 07:24:...</td></tr>\n",
       "<tr><td>56533114</td><td>3478.66</td><td>3815.07</td><td>0.0</td><td>12460.86</td><td>1111.52</td><td>Mar-2016</td><td>null</td><td>2024-11-28 07:24:...</td></tr>\n",
       "<tr><td>56984127</td><td>24000.0</td><td>2939.61</td><td>0.0</td><td>26939.611</td><td>5175.19</td><td>Feb-2018</td><td>null</td><td>2024-11-28 07:24:...</td></tr>\n",
       "<tr><td>56131038</td><td>7612.86</td><td>4827.33</td><td>0.0</td><td>12440.19</td><td>289.34</td><td>Mar-2019</td><td>Apr-2019</td><td>2024-11-28 07:24:...</td></tr>\n",
       "<tr><td>56452581</td><td>25000.0</td><td>5435.67</td><td>0.0</td><td>30435.67</td><td>2525.29</td><td>Jun-2018</td><td>null</td><td>2024-11-28 07:24:...</td></tr>\n",
       "<tr><td>56685321</td><td>3839.84</td><td>5116.89</td><td>0.0</td><td>11211.31</td><td>899.28</td><td>Jun-2016</td><td>null</td><td>2024-11-28 07:24:...</td></tr>\n",
       "<tr><td>56563360</td><td>14994.95</td><td>14659.13</td><td>0.0</td><td>29654.08</td><td>690.34</td><td>Mar-2019</td><td>Apr-2019</td><td>2024-11-28 07:24:...</td></tr>\n",
       "<tr><td>56533113</td><td>20000.0</td><td>1319.02</td><td>0.0</td><td>21319.02</td><td>17901.73</td><td>Feb-2016</td><td>null</td><td>2024-11-28 07:24:...</td></tr>\n",
       "<tr><td>56904118</td><td>5676.65</td><td>1655.48</td><td>0.0</td><td>7859.88</td><td>317.69</td><td>Jul-2017</td><td>null</td><td>2024-11-28 07:24:...</td></tr>\n",
       "<tr><td>56473361</td><td>4200.0</td><td>1082.96</td><td>0.0</td><td>5282.9614</td><td>146.5</td><td>Aug-2018</td><td>null</td><td>2024-11-28 07:24:...</td></tr>\n",
       "<tr><td>56021410</td><td>8625.0</td><td>1813.75</td><td>0.0</td><td>10438.753</td><td>4946.24</td><td>Mar-2017</td><td>null</td><td>2024-11-28 07:24:...</td></tr>\n",
       "<tr><td>56473332</td><td>12225.62</td><td>8790.03</td><td>0.0</td><td>21015.65</td><td>478.05</td><td>Mar-2019</td><td>Apr-2019</td><td>2024-11-28 07:24:...</td></tr>\n",
       "</table>\n",
       "only showing top 20 rows\n"
      ],
      "text/plain": [
       "+--------+------------------------+-----------------------+-----------------------+----------------------+-------------------+-----------------+-----------------+--------------------+\n",
       "| loan_id|total_principal_received|total_interest_received|total_late_fee_received|total_payment_received|last_payment_amount|last_payment_date|next_payment_date|         ingest_date|\n",
       "+--------+------------------------+-----------------------+-----------------------+----------------------+-------------------+-----------------+-----------------+--------------------+\n",
       "|56633077|                  3000.0|                 376.21|                    0.0|              3376.206|              93.74|         Aug-2018|             null|2024-11-28 07:24:...|\n",
       "|55927518|                 15600.0|                1956.32|                    0.0|              17556.32|              487.9|         Aug-2018|             null|2024-11-28 07:24:...|\n",
       "|56473345|                 20000.0|                2408.94|                    0.0|              22408.94|            9677.72|         May-2017|             null|2024-11-28 07:24:...|\n",
       "|56463188|                 11200.0|                5231.01|                    0.0|             16431.014|            7475.86|         Feb-2018|             null|2024-11-28 07:24:...|\n",
       "|56473316|                 5215.47|                6513.51|                    0.0|              13237.07|             432.77|         Nov-2017|             null|2024-11-28 07:24:...|\n",
       "|56663266|                 6477.26|                4221.77|                    0.0|              12544.05|             458.45|         Jun-2017|             null|2024-11-28 07:24:...|\n",
       "|56483027|                 10000.0|                2062.03|                    0.0|             12062.026|             335.38|         Aug-2018|             null|2024-11-28 07:24:...|\n",
       "|56613385|                13932.74|               11678.23|                    0.0|              25610.97|             609.46|         Feb-2019|         Apr-2019|2024-11-28 07:24:...|\n",
       "|56643620|                 16000.0|                1031.67|                    0.0|             17031.674|            8363.28|         Mar-2017|             null|2024-11-28 07:24:...|\n",
       "|56533114|                 3478.66|                3815.07|                    0.0|              12460.86|            1111.52|         Mar-2016|             null|2024-11-28 07:24:...|\n",
       "|56984127|                 24000.0|                2939.61|                    0.0|             26939.611|            5175.19|         Feb-2018|             null|2024-11-28 07:24:...|\n",
       "|56131038|                 7612.86|                4827.33|                    0.0|              12440.19|             289.34|         Mar-2019|         Apr-2019|2024-11-28 07:24:...|\n",
       "|56452581|                 25000.0|                5435.67|                    0.0|              30435.67|            2525.29|         Jun-2018|             null|2024-11-28 07:24:...|\n",
       "|56685321|                 3839.84|                5116.89|                    0.0|              11211.31|             899.28|         Jun-2016|             null|2024-11-28 07:24:...|\n",
       "|56563360|                14994.95|               14659.13|                    0.0|              29654.08|             690.34|         Mar-2019|         Apr-2019|2024-11-28 07:24:...|\n",
       "|56533113|                 20000.0|                1319.02|                    0.0|              21319.02|           17901.73|         Feb-2016|             null|2024-11-28 07:24:...|\n",
       "|56904118|                 5676.65|                1655.48|                    0.0|               7859.88|             317.69|         Jul-2017|             null|2024-11-28 07:24:...|\n",
       "|56473361|                  4200.0|                1082.96|                    0.0|             5282.9614|              146.5|         Aug-2018|             null|2024-11-28 07:24:...|\n",
       "|56021410|                  8625.0|                1813.75|                    0.0|             10438.753|            4946.24|         Mar-2017|             null|2024-11-28 07:24:...|\n",
       "|56473332|                12225.62|                8790.03|                    0.0|              21015.65|             478.05|         Mar-2019|         Apr-2019|2024-11-28 07:24:...|\n",
       "+--------+------------------------+-----------------------+-----------------------+----------------------+-------------------+-----------------+-----------------+--------------------+\n",
       "only showing top 20 rows"
      ]
     },
     "execution_count": 31,
     "metadata": {},
     "output_type": "execute_result"
    }
   ],
   "source": [
    "spark.sql(\"select * from itv014325_lending_club.loans_repayments\")"
   ]
  },
  {
   "cell_type": "code",
   "execution_count": 44,
   "id": "d53ac2f8",
   "metadata": {},
   "outputs": [
    {
     "data": {
      "text/html": [
       "<table border='1'>\n",
       "<tr><th></th></tr>\n",
       "</table>\n"
      ],
      "text/plain": [
       "++\n",
       "||\n",
       "++\n",
       "++"
      ]
     },
     "execution_count": 44,
     "metadata": {},
     "output_type": "execute_result"
    }
   ],
   "source": [
    "spark.sql(\"\"\"CREATE EXTERNAL TABLE itv014325_lending_club.loan_defaulters_delinq(\n",
    "member_id string, delinq_2yrs integer, delinq_amnt float, mths_since_last_delinq integer)\n",
    "stored as parquet LOCATION '/user/itv014325/lendingclubproject/raw/cleaned/loans_defaulters_deling_parquet'\"\"\")"
   ]
  },
  {
   "cell_type": "code",
   "execution_count": 45,
   "id": "1dc3f41f",
   "metadata": {},
   "outputs": [
    {
     "data": {
      "text/html": [
       "<table border='1'>\n",
       "<tr><th>member_id</th><th>delinq_2yrs</th><th>delinq_amnt</th><th>mths_since_last_delinq</th></tr>\n",
       "<tr><td>9cb79aa7323e81be1...</td><td>2</td><td>0.0</td><td>11</td></tr>\n",
       "<tr><td>aac68850fdac09fd0...</td><td>1</td><td>0.0</td><td>21</td></tr>\n",
       "<tr><td>c89986155a070db2e...</td><td>1</td><td>0.0</td><td>5</td></tr>\n",
       "<tr><td>6e8d94bf446e97025...</td><td>0</td><td>0.0</td><td>36</td></tr>\n",
       "<tr><td>42f73fd8a01f1c475...</td><td>0</td><td>0.0</td><td>46</td></tr>\n",
       "<tr><td>1eef79a0e79b72c7a...</td><td>1</td><td>0.0</td><td>21</td></tr>\n",
       "<tr><td>1dd1d1b51473d4993...</td><td>0</td><td>0.0</td><td>44</td></tr>\n",
       "<tr><td>ec1953dba2cfb89ad...</td><td>2</td><td>0.0</td><td>13</td></tr>\n",
       "<tr><td>8241a6bb3a9350fb8...</td><td>0</td><td>0.0</td><td>57</td></tr>\n",
       "<tr><td>cdc94fa1c29a6a70a...</td><td>0</td><td>0.0</td><td>44</td></tr>\n",
       "<tr><td>3712c9da85e54b7b1...</td><td>1</td><td>0.0</td><td>19</td></tr>\n",
       "<tr><td>6ebc82410b3dc9dcb...</td><td>0</td><td>0.0</td><td>43</td></tr>\n",
       "<tr><td>d25f6d6da5a92a401...</td><td>0</td><td>0.0</td><td>45</td></tr>\n",
       "<tr><td>657a760b1d52967fb...</td><td>0</td><td>0.0</td><td>36</td></tr>\n",
       "<tr><td>030e5c9c411c936c5...</td><td>2</td><td>0.0</td><td>6</td></tr>\n",
       "<tr><td>7fd6a504a6486e061...</td><td>0</td><td>0.0</td><td>45</td></tr>\n",
       "<tr><td>a67f439593858be7c...</td><td>0</td><td>0.0</td><td>28</td></tr>\n",
       "<tr><td>252736f8401b6b046...</td><td>2</td><td>0.0</td><td>5</td></tr>\n",
       "<tr><td>bf7c24ada32d968a6...</td><td>0</td><td>0.0</td><td>49</td></tr>\n",
       "<tr><td>a36b7198a8d922b0c...</td><td>0</td><td>0.0</td><td>75</td></tr>\n",
       "</table>\n",
       "only showing top 20 rows\n"
      ],
      "text/plain": [
       "+--------------------+-----------+-----------+----------------------+\n",
       "|           member_id|delinq_2yrs|delinq_amnt|mths_since_last_delinq|\n",
       "+--------------------+-----------+-----------+----------------------+\n",
       "|9cb79aa7323e81be1...|          2|        0.0|                    11|\n",
       "|aac68850fdac09fd0...|          1|        0.0|                    21|\n",
       "|c89986155a070db2e...|          1|        0.0|                     5|\n",
       "|6e8d94bf446e97025...|          0|        0.0|                    36|\n",
       "|42f73fd8a01f1c475...|          0|        0.0|                    46|\n",
       "|1eef79a0e79b72c7a...|          1|        0.0|                    21|\n",
       "|1dd1d1b51473d4993...|          0|        0.0|                    44|\n",
       "|ec1953dba2cfb89ad...|          2|        0.0|                    13|\n",
       "|8241a6bb3a9350fb8...|          0|        0.0|                    57|\n",
       "|cdc94fa1c29a6a70a...|          0|        0.0|                    44|\n",
       "|3712c9da85e54b7b1...|          1|        0.0|                    19|\n",
       "|6ebc82410b3dc9dcb...|          0|        0.0|                    43|\n",
       "|d25f6d6da5a92a401...|          0|        0.0|                    45|\n",
       "|657a760b1d52967fb...|          0|        0.0|                    36|\n",
       "|030e5c9c411c936c5...|          2|        0.0|                     6|\n",
       "|7fd6a504a6486e061...|          0|        0.0|                    45|\n",
       "|a67f439593858be7c...|          0|        0.0|                    28|\n",
       "|252736f8401b6b046...|          2|        0.0|                     5|\n",
       "|bf7c24ada32d968a6...|          0|        0.0|                    49|\n",
       "|a36b7198a8d922b0c...|          0|        0.0|                    75|\n",
       "+--------------------+-----------+-----------+----------------------+\n",
       "only showing top 20 rows"
      ]
     },
     "execution_count": 45,
     "metadata": {},
     "output_type": "execute_result"
    }
   ],
   "source": [
    "spark.sql(\"select * from itv014325_lending_club.loan_defaulters_delinq\")"
   ]
  },
  {
   "cell_type": "code",
   "execution_count": 46,
   "id": "c4d0b174",
   "metadata": {},
   "outputs": [
    {
     "data": {
      "text/html": [
       "<table border='1'>\n",
       "<tr><th>col_name</th><th>data_type</th><th>comment</th></tr>\n",
       "<tr><td>member_id</td><td>string</td><td>null</td></tr>\n",
       "<tr><td>delinq_2yrs</td><td>int</td><td>null</td></tr>\n",
       "<tr><td>delinq_amnt</td><td>float</td><td>null</td></tr>\n",
       "<tr><td>mths_since_last_d...</td><td>int</td><td>null</td></tr>\n",
       "<tr><td></td><td></td><td></td></tr>\n",
       "<tr><td># Detailed Table ...</td><td></td><td></td></tr>\n",
       "<tr><td>Database</td><td>itv014325_lending...</td><td></td></tr>\n",
       "<tr><td>Table</td><td>loan_defaulters_d...</td><td></td></tr>\n",
       "<tr><td>Owner</td><td>itv014325</td><td></td></tr>\n",
       "<tr><td>Created Time</td><td>Wed Dec 04 04:07:...</td><td></td></tr>\n",
       "<tr><td>Last Access</td><td>UNKNOWN</td><td></td></tr>\n",
       "<tr><td>Created By</td><td>Spark 3.1.2</td><td></td></tr>\n",
       "<tr><td>Type</td><td>EXTERNAL</td><td></td></tr>\n",
       "<tr><td>Provider</td><td>hive</td><td></td></tr>\n",
       "<tr><td>Table Properties</td><td>[transient_lastDd...</td><td></td></tr>\n",
       "<tr><td>Statistics</td><td>74738801 bytes</td><td></td></tr>\n",
       "<tr><td>Location</td><td>hdfs://m01.itvers...</td><td></td></tr>\n",
       "<tr><td>Serde Library</td><td>org.apache.hadoop...</td><td></td></tr>\n",
       "<tr><td>InputFormat</td><td>org.apache.hadoop...</td><td></td></tr>\n",
       "<tr><td>OutputFormat</td><td>org.apache.hadoop...</td><td></td></tr>\n",
       "</table>\n",
       "only showing top 20 rows\n"
      ],
      "text/plain": [
       "+--------------------+--------------------+-------+\n",
       "|            col_name|           data_type|comment|\n",
       "+--------------------+--------------------+-------+\n",
       "|           member_id|              string|   null|\n",
       "|         delinq_2yrs|                 int|   null|\n",
       "|         delinq_amnt|               float|   null|\n",
       "|mths_since_last_d...|                 int|   null|\n",
       "|                    |                    |       |\n",
       "|# Detailed Table ...|                    |       |\n",
       "|            Database|itv014325_lending...|       |\n",
       "|               Table|loan_defaulters_d...|       |\n",
       "|               Owner|           itv014325|       |\n",
       "|        Created Time|Wed Dec 04 04:07:...|       |\n",
       "|         Last Access|             UNKNOWN|       |\n",
       "|          Created By|         Spark 3.1.2|       |\n",
       "|                Type|            EXTERNAL|       |\n",
       "|            Provider|                hive|       |\n",
       "|    Table Properties|[transient_lastDd...|       |\n",
       "|          Statistics|      74738801 bytes|       |\n",
       "|            Location|hdfs://m01.itvers...|       |\n",
       "|       Serde Library|org.apache.hadoop...|       |\n",
       "|         InputFormat|org.apache.hadoop...|       |\n",
       "|        OutputFormat|org.apache.hadoop...|       |\n",
       "+--------------------+--------------------+-------+\n",
       "only showing top 20 rows"
      ]
     },
     "execution_count": 46,
     "metadata": {},
     "output_type": "execute_result"
    }
   ],
   "source": [
    "spark.sql(\"describe extended itv014325_lending_club.loan_defaulters_delinq\")"
   ]
  },
  {
   "cell_type": "code",
   "execution_count": null,
   "id": "359a337a",
   "metadata": {},
   "outputs": [],
   "source": []
  },
  {
   "cell_type": "code",
   "execution_count": 13,
   "id": "e58b4f34",
   "metadata": {},
   "outputs": [
    {
     "data": {
      "text/html": [
       "<table border='1'>\n",
       "<tr><th></th></tr>\n",
       "</table>\n"
      ],
      "text/plain": [
       "++\n",
       "||\n",
       "++\n",
       "++"
      ]
     },
     "execution_count": 13,
     "metadata": {},
     "output_type": "execute_result"
    }
   ],
   "source": [
    "spark.sql(\"\"\"CREATE EXTERNAL TABLE itv006277_lending_club.loans_defaulters_detail_rec_enq(\n",
    "member_id string, pub_rec integer, pub_rec_bankruptcies integer, inq_last_6mths integer)\n",
    "stored as parquet LOCATION '/public/trendytech/lendingclubproject/cleaned/loans_defaulters_detail_records_enq_parquet'\"\"\")"
   ]
  },
  {
   "cell_type": "code",
   "execution_count": 14,
   "id": "9e8bda1a",
   "metadata": {},
   "outputs": [
    {
     "data": {
      "text/html": [
       "<table border='1'>\n",
       "<tr><th>member_id</th><th>pub_rec</th><th>pub_rec_bankruptcies</th><th>inq_last_6mths</th></tr>\n",
       "<tr><td>9cb79aa7323e81be1...</td><td>0</td><td>0</td><td>0</td></tr>\n",
       "<tr><td>0dd2bbc517e3c8f9e...</td><td>1</td><td>1</td><td>3</td></tr>\n",
       "<tr><td>458458599d3df3bfc...</td><td>1</td><td>1</td><td>1</td></tr>\n",
       "<tr><td>05ea141ec28b5c7f7...</td><td>0</td><td>0</td><td>0</td></tr>\n",
       "<tr><td>aac68850fdac09fd0...</td><td>0</td><td>0</td><td>0</td></tr>\n",
       "<tr><td>3a423e4589e89f429...</td><td>0</td><td>0</td><td>0</td></tr>\n",
       "<tr><td>f1efcf7dfbfef21be...</td><td>0</td><td>0</td><td>1</td></tr>\n",
       "<tr><td>c89986155a070db2e...</td><td>0</td><td>0</td><td>1</td></tr>\n",
       "<tr><td>118dc629b6e134419...</td><td>0</td><td>0</td><td>0</td></tr>\n",
       "<tr><td>a86fa4b7493708333...</td><td>0</td><td>0</td><td>0</td></tr>\n",
       "<tr><td>6e8d94bf446e97025...</td><td>0</td><td>0</td><td>0</td></tr>\n",
       "<tr><td>3de585156dc6b73f6...</td><td>0</td><td>0</td><td>0</td></tr>\n",
       "<tr><td>e88945f86a96f8d71...</td><td>0</td><td>0</td><td>1</td></tr>\n",
       "<tr><td>42f73fd8a01f1c475...</td><td>0</td><td>0</td><td>0</td></tr>\n",
       "<tr><td>c680bca32456530e6...</td><td>0</td><td>0</td><td>0</td></tr>\n",
       "<tr><td>3c36e35bcc0379690...</td><td>0</td><td>0</td><td>0</td></tr>\n",
       "<tr><td>4e1c30a5dfe9f1e20...</td><td>0</td><td>0</td><td>1</td></tr>\n",
       "<tr><td>1eef79a0e79b72c7a...</td><td>0</td><td>0</td><td>0</td></tr>\n",
       "<tr><td>89d42771f79636d22...</td><td>0</td><td>0</td><td>0</td></tr>\n",
       "<tr><td>1dd1d1b51473d4993...</td><td>0</td><td>0</td><td>0</td></tr>\n",
       "</table>\n",
       "only showing top 20 rows\n"
      ],
      "text/plain": [
       "+--------------------+-------+--------------------+--------------+\n",
       "|           member_id|pub_rec|pub_rec_bankruptcies|inq_last_6mths|\n",
       "+--------------------+-------+--------------------+--------------+\n",
       "|9cb79aa7323e81be1...|      0|                   0|             0|\n",
       "|0dd2bbc517e3c8f9e...|      1|                   1|             3|\n",
       "|458458599d3df3bfc...|      1|                   1|             1|\n",
       "|05ea141ec28b5c7f7...|      0|                   0|             0|\n",
       "|aac68850fdac09fd0...|      0|                   0|             0|\n",
       "|3a423e4589e89f429...|      0|                   0|             0|\n",
       "|f1efcf7dfbfef21be...|      0|                   0|             1|\n",
       "|c89986155a070db2e...|      0|                   0|             1|\n",
       "|118dc629b6e134419...|      0|                   0|             0|\n",
       "|a86fa4b7493708333...|      0|                   0|             0|\n",
       "|6e8d94bf446e97025...|      0|                   0|             0|\n",
       "|3de585156dc6b73f6...|      0|                   0|             0|\n",
       "|e88945f86a96f8d71...|      0|                   0|             1|\n",
       "|42f73fd8a01f1c475...|      0|                   0|             0|\n",
       "|c680bca32456530e6...|      0|                   0|             0|\n",
       "|3c36e35bcc0379690...|      0|                   0|             0|\n",
       "|4e1c30a5dfe9f1e20...|      0|                   0|             1|\n",
       "|1eef79a0e79b72c7a...|      0|                   0|             0|\n",
       "|89d42771f79636d22...|      0|                   0|             0|\n",
       "|1dd1d1b51473d4993...|      0|                   0|             0|\n",
       "+--------------------+-------+--------------------+--------------+\n",
       "only showing top 20 rows"
      ]
     },
     "execution_count": 14,
     "metadata": {},
     "output_type": "execute_result"
    }
   ],
   "source": [
    "spark.sql(\"select * from itv006277_lending_club.loans_defaulters_detail_rec_enq\")"
   ]
  },
  {
   "cell_type": "code",
   "execution_count": null,
   "id": "a7cf00ef",
   "metadata": {},
   "outputs": [],
   "source": []
  }
 ],
 "metadata": {
  "kernelspec": {
   "display_name": "Pyspark 3",
   "language": "python",
   "name": "pyspark3"
  },
  "language_info": {
   "codemirror_mode": {
    "name": "ipython",
    "version": 3
   },
   "file_extension": ".py",
   "mimetype": "text/x-python",
   "name": "python",
   "nbconvert_exporter": "python",
   "pygments_lexer": "ipython3",
   "version": "3.6.12"
  }
 },
 "nbformat": 4,
 "nbformat_minor": 5
}
